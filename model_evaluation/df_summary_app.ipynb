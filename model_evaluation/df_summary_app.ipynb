{
 "metadata": {
  "language_info": {
   "codemirror_mode": {
    "name": "ipython",
    "version": 3
   },
   "file_extension": ".py",
   "mimetype": "text/x-python",
   "name": "python",
   "nbconvert_exporter": "python",
   "pygments_lexer": "ipython3",
   "version": "3.8.8"
  },
  "orig_nbformat": 4,
  "kernelspec": {
   "name": "python3",
   "display_name": "Python 3.8.8 64-bit ('base': conda)"
  },
  "interpreter": {
   "hash": "b3ba2566441a7c06988d0923437866b63cedc61552a5af99d1f4fb67d367b25f"
  }
 },
 "nbformat": 4,
 "nbformat_minor": 2,
 "cells": [
  {
   "cell_type": "code",
   "execution_count": 1,
   "metadata": {},
   "outputs": [],
   "source": [
    "import pandas as pd"
   ]
  },
  {
   "cell_type": "code",
   "execution_count": 2,
   "metadata": {},
   "outputs": [],
   "source": [
    "df =pd.read_csv('df_short_test.csv')"
   ]
  },
  {
   "cell_type": "code",
   "execution_count": 3,
   "metadata": {},
   "outputs": [
    {
     "output_type": "execute_result",
     "data": {
      "text/plain": [
       "              Prop Type              S/A    Price  Yr Blt TypeDwel  \\\n",
       "0  Residential Detached   Burke Mountain  1650000   202.0    HOUSE   \n",
       "1  Residential Attached   Coquitlam West  1386000  2013.0    OTHER   \n",
       "2  Residential Detached        Woodwards  1240000  1976.0    HOUSE   \n",
       "3  Residential Detached    Fraserview VE  1835000  1988.0    HOUSE   \n",
       "4  Residential Attached  College Park PM   577500  2007.0     APTU   \n",
       "\n",
       "   # of Kitchens  # Rms     Age  Floor Area -Grand Total            Area  ...  \\\n",
       "0            2.0   10.0  1818.0                   3916.0       Coquitlam  ...   \n",
       "1            1.0   11.0     8.0                   1737.0       Coquitlam  ...   \n",
       "2            1.0    9.0    44.0                   1885.0        Richmond  ...   \n",
       "3            2.0   18.0    33.0                   3495.0  Vancouver East  ...   \n",
       "4            1.0    8.0    13.0                   1129.0      Port Moody  ...   \n",
       "\n",
       "  Lot Sz (Sq.Ft.)  View  Fireplaces  Parking Places - Total  No. Floor Levels  \\\n",
       "0            0.00   Yes         1.0                     4.0               3.0   \n",
       "1         4031.00    No         1.0                     3.0               3.0   \n",
       "2         5554.00    No         1.0                     4.0               2.0   \n",
       "3         7604.76    No         2.0                     4.0               2.0   \n",
       "4            0.00   Yes         1.0                     2.0               1.0   \n",
       "\n",
       "   Dist to School/School Bus changed Distance to Pub/Rapid Tr changed  \\\n",
       "0                              Close                            Close   \n",
       "1                          Not Close                        Not Close   \n",
       "2                              Close                            Close   \n",
       "3                              Close                            Close   \n",
       "4                          Not Close                        Not Close   \n",
       "\n",
       "   Zoning changed  Realtor remarks sentiment classified  \\\n",
       "0              RS                              positive   \n",
       "1              RT                              positive   \n",
       "2              RS                              positive   \n",
       "3           other                              positive   \n",
       "4              RA                              negative   \n",
       "\n",
       "   Public remarks sentiment classified  \n",
       "0                             positive  \n",
       "1                             positive  \n",
       "2                             positive  \n",
       "3                             positive  \n",
       "4                             positive  \n",
       "\n",
       "[5 rows x 25 columns]"
      ],
      "text/html": "<div>\n<style scoped>\n    .dataframe tbody tr th:only-of-type {\n        vertical-align: middle;\n    }\n\n    .dataframe tbody tr th {\n        vertical-align: top;\n    }\n\n    .dataframe thead th {\n        text-align: right;\n    }\n</style>\n<table border=\"1\" class=\"dataframe\">\n  <thead>\n    <tr style=\"text-align: right;\">\n      <th></th>\n      <th>Prop Type</th>\n      <th>S/A</th>\n      <th>Price</th>\n      <th>Yr Blt</th>\n      <th>TypeDwel</th>\n      <th># of Kitchens</th>\n      <th># Rms</th>\n      <th>Age</th>\n      <th>Floor Area -Grand Total</th>\n      <th>Area</th>\n      <th>...</th>\n      <th>Lot Sz (Sq.Ft.)</th>\n      <th>View</th>\n      <th>Fireplaces</th>\n      <th>Parking Places - Total</th>\n      <th>No. Floor Levels</th>\n      <th>Dist to School/School Bus changed</th>\n      <th>Distance to Pub/Rapid Tr changed</th>\n      <th>Zoning changed</th>\n      <th>Realtor remarks sentiment classified</th>\n      <th>Public remarks sentiment classified</th>\n    </tr>\n  </thead>\n  <tbody>\n    <tr>\n      <th>0</th>\n      <td>Residential Detached</td>\n      <td>Burke Mountain</td>\n      <td>1650000</td>\n      <td>202.0</td>\n      <td>HOUSE</td>\n      <td>2.0</td>\n      <td>10.0</td>\n      <td>1818.0</td>\n      <td>3916.0</td>\n      <td>Coquitlam</td>\n      <td>...</td>\n      <td>0.00</td>\n      <td>Yes</td>\n      <td>1.0</td>\n      <td>4.0</td>\n      <td>3.0</td>\n      <td>Close</td>\n      <td>Close</td>\n      <td>RS</td>\n      <td>positive</td>\n      <td>positive</td>\n    </tr>\n    <tr>\n      <th>1</th>\n      <td>Residential Attached</td>\n      <td>Coquitlam West</td>\n      <td>1386000</td>\n      <td>2013.0</td>\n      <td>OTHER</td>\n      <td>1.0</td>\n      <td>11.0</td>\n      <td>8.0</td>\n      <td>1737.0</td>\n      <td>Coquitlam</td>\n      <td>...</td>\n      <td>4031.00</td>\n      <td>No</td>\n      <td>1.0</td>\n      <td>3.0</td>\n      <td>3.0</td>\n      <td>Not Close</td>\n      <td>Not Close</td>\n      <td>RT</td>\n      <td>positive</td>\n      <td>positive</td>\n    </tr>\n    <tr>\n      <th>2</th>\n      <td>Residential Detached</td>\n      <td>Woodwards</td>\n      <td>1240000</td>\n      <td>1976.0</td>\n      <td>HOUSE</td>\n      <td>1.0</td>\n      <td>9.0</td>\n      <td>44.0</td>\n      <td>1885.0</td>\n      <td>Richmond</td>\n      <td>...</td>\n      <td>5554.00</td>\n      <td>No</td>\n      <td>1.0</td>\n      <td>4.0</td>\n      <td>2.0</td>\n      <td>Close</td>\n      <td>Close</td>\n      <td>RS</td>\n      <td>positive</td>\n      <td>positive</td>\n    </tr>\n    <tr>\n      <th>3</th>\n      <td>Residential Detached</td>\n      <td>Fraserview VE</td>\n      <td>1835000</td>\n      <td>1988.0</td>\n      <td>HOUSE</td>\n      <td>2.0</td>\n      <td>18.0</td>\n      <td>33.0</td>\n      <td>3495.0</td>\n      <td>Vancouver East</td>\n      <td>...</td>\n      <td>7604.76</td>\n      <td>No</td>\n      <td>2.0</td>\n      <td>4.0</td>\n      <td>2.0</td>\n      <td>Close</td>\n      <td>Close</td>\n      <td>other</td>\n      <td>positive</td>\n      <td>positive</td>\n    </tr>\n    <tr>\n      <th>4</th>\n      <td>Residential Attached</td>\n      <td>College Park PM</td>\n      <td>577500</td>\n      <td>2007.0</td>\n      <td>APTU</td>\n      <td>1.0</td>\n      <td>8.0</td>\n      <td>13.0</td>\n      <td>1129.0</td>\n      <td>Port Moody</td>\n      <td>...</td>\n      <td>0.00</td>\n      <td>Yes</td>\n      <td>1.0</td>\n      <td>2.0</td>\n      <td>1.0</td>\n      <td>Not Close</td>\n      <td>Not Close</td>\n      <td>RA</td>\n      <td>negative</td>\n      <td>positive</td>\n    </tr>\n  </tbody>\n</table>\n<p>5 rows × 25 columns</p>\n</div>"
     },
     "metadata": {},
     "execution_count": 3
    }
   ],
   "source": [
    "df.head()"
   ]
  },
  {
   "cell_type": "code",
   "execution_count": 17,
   "metadata": {},
   "outputs": [
    {
     "output_type": "execute_result",
     "data": {
      "text/plain": [
       "Index(['Prop Type', 'S/A', 'Price', 'Yr Blt', 'TypeDwel', '# of Kitchens',\n",
       "       '# Rms', 'Age', 'Floor Area -Grand Total', 'Area', 'Type',\n",
       "       'Total Bedrooms', 'Total Baths', 'Days On Market', 'List Date',\n",
       "       'Lot Sz (Sq.Ft.)', 'View', 'Fireplaces', 'Parking Places - Total',\n",
       "       'No. Floor Levels', 'Dist to School/School Bus changed',\n",
       "       'Distance to Pub/Rapid Tr changed', 'Zoning changed',\n",
       "       'Realtor remarks sentiment classified',\n",
       "       'Public remarks sentiment classified'],\n",
       "      dtype='object')"
      ]
     },
     "metadata": {},
     "execution_count": 17
    }
   ],
   "source": [
    "df.columns"
   ]
  },
  {
   "cell_type": "code",
   "execution_count": 25,
   "metadata": {},
   "outputs": [
    {
     "output_type": "execute_result",
     "data": {
      "text/plain": [
       "count      5451.000000\n",
       "mean     737752.050633\n",
       "std         156.875418\n",
       "min      737425.000000\n",
       "25%      737627.000000\n",
       "50%      737787.000000\n",
       "75%      737892.000000\n",
       "max      737973.000000\n",
       "Name: List Date, dtype: float64"
      ]
     },
     "metadata": {},
     "execution_count": 25
    }
   ],
   "source": [
    "df['List Date'].describe()"
   ]
  },
  {
   "cell_type": "code",
   "execution_count": 26,
   "metadata": {},
   "outputs": [
    {
     "output_type": "execute_result",
     "data": {
      "text/plain": [
       "              Price       Yr Blt  # of Kitchens        # Rms          Age  \\\n",
       "count  5.451000e+03  5451.000000    5451.000000  5451.000000  5451.000000   \n",
       "mean   1.212509e+06  2029.674005       1.174463     8.604660    28.811961   \n",
       "std    1.188874e+06   519.925851       0.532793     4.057048    71.755313   \n",
       "min    4.000000e+05   202.000000       0.000000     1.000000     0.000000   \n",
       "25%    6.207500e+05  1986.000000       1.000000     6.000000     6.000000   \n",
       "50%    8.600000e+05  2004.000000       1.000000     7.000000    17.000000   \n",
       "75%    1.398000e+06  2015.000000       1.000000    11.000000    35.000000   \n",
       "max    2.980000e+07  9999.000000       7.000000    30.000000  1818.000000   \n",
       "\n",
       "       Floor Area -Grand Total  Total Bedrooms  Total Baths  Days On Market  \\\n",
       "count              5451.000000     5451.000000  5451.000000     5451.000000   \n",
       "mean               1618.287470        2.834159     2.426894       30.076683   \n",
       "std                1136.469131        1.599316     1.357657       43.081825   \n",
       "min                   0.000000        0.000000     0.000000        0.000000   \n",
       "25%                 846.500000        2.000000     2.000000        6.000000   \n",
       "50%                1215.000000        2.000000     2.000000       13.000000   \n",
       "75%                2121.500000        4.000000     3.000000       37.000000   \n",
       "max               15371.000000       11.000000    12.000000      543.000000   \n",
       "\n",
       "           List Date  Lot Sz (Sq.Ft.)   Fireplaces  Parking Places - Total  \\\n",
       "count    5451.000000      5421.000000  5450.000000             5451.000000   \n",
       "mean   737752.050633      3307.273878     0.773578                1.988993   \n",
       "std       156.875418     20243.592471     0.778755                1.805259   \n",
       "min    737425.000000         0.000000     0.000000                0.000000   \n",
       "25%    737627.000000         0.000000     0.000000                1.000000   \n",
       "50%    737787.000000         0.000000     1.000000                1.000000   \n",
       "75%    737892.000000      4056.990000     1.000000                2.000000   \n",
       "max    737973.000000    801000.000000     5.000000               31.000000   \n",
       "\n",
       "       No. Floor Levels  \n",
       "count       5451.000000  \n",
       "mean           1.734177  \n",
       "std            0.956851  \n",
       "min            0.000000  \n",
       "25%            1.000000  \n",
       "50%            1.000000  \n",
       "75%            2.000000  \n",
       "max           23.000000  "
      ],
      "text/html": "<div>\n<style scoped>\n    .dataframe tbody tr th:only-of-type {\n        vertical-align: middle;\n    }\n\n    .dataframe tbody tr th {\n        vertical-align: top;\n    }\n\n    .dataframe thead th {\n        text-align: right;\n    }\n</style>\n<table border=\"1\" class=\"dataframe\">\n  <thead>\n    <tr style=\"text-align: right;\">\n      <th></th>\n      <th>Price</th>\n      <th>Yr Blt</th>\n      <th># of Kitchens</th>\n      <th># Rms</th>\n      <th>Age</th>\n      <th>Floor Area -Grand Total</th>\n      <th>Total Bedrooms</th>\n      <th>Total Baths</th>\n      <th>Days On Market</th>\n      <th>List Date</th>\n      <th>Lot Sz (Sq.Ft.)</th>\n      <th>Fireplaces</th>\n      <th>Parking Places - Total</th>\n      <th>No. Floor Levels</th>\n    </tr>\n  </thead>\n  <tbody>\n    <tr>\n      <th>count</th>\n      <td>5.451000e+03</td>\n      <td>5451.000000</td>\n      <td>5451.000000</td>\n      <td>5451.000000</td>\n      <td>5451.000000</td>\n      <td>5451.000000</td>\n      <td>5451.000000</td>\n      <td>5451.000000</td>\n      <td>5451.000000</td>\n      <td>5451.000000</td>\n      <td>5421.000000</td>\n      <td>5450.000000</td>\n      <td>5451.000000</td>\n      <td>5451.000000</td>\n    </tr>\n    <tr>\n      <th>mean</th>\n      <td>1.212509e+06</td>\n      <td>2029.674005</td>\n      <td>1.174463</td>\n      <td>8.604660</td>\n      <td>28.811961</td>\n      <td>1618.287470</td>\n      <td>2.834159</td>\n      <td>2.426894</td>\n      <td>30.076683</td>\n      <td>737752.050633</td>\n      <td>3307.273878</td>\n      <td>0.773578</td>\n      <td>1.988993</td>\n      <td>1.734177</td>\n    </tr>\n    <tr>\n      <th>std</th>\n      <td>1.188874e+06</td>\n      <td>519.925851</td>\n      <td>0.532793</td>\n      <td>4.057048</td>\n      <td>71.755313</td>\n      <td>1136.469131</td>\n      <td>1.599316</td>\n      <td>1.357657</td>\n      <td>43.081825</td>\n      <td>156.875418</td>\n      <td>20243.592471</td>\n      <td>0.778755</td>\n      <td>1.805259</td>\n      <td>0.956851</td>\n    </tr>\n    <tr>\n      <th>min</th>\n      <td>4.000000e+05</td>\n      <td>202.000000</td>\n      <td>0.000000</td>\n      <td>1.000000</td>\n      <td>0.000000</td>\n      <td>0.000000</td>\n      <td>0.000000</td>\n      <td>0.000000</td>\n      <td>0.000000</td>\n      <td>737425.000000</td>\n      <td>0.000000</td>\n      <td>0.000000</td>\n      <td>0.000000</td>\n      <td>0.000000</td>\n    </tr>\n    <tr>\n      <th>25%</th>\n      <td>6.207500e+05</td>\n      <td>1986.000000</td>\n      <td>1.000000</td>\n      <td>6.000000</td>\n      <td>6.000000</td>\n      <td>846.500000</td>\n      <td>2.000000</td>\n      <td>2.000000</td>\n      <td>6.000000</td>\n      <td>737627.000000</td>\n      <td>0.000000</td>\n      <td>0.000000</td>\n      <td>1.000000</td>\n      <td>1.000000</td>\n    </tr>\n    <tr>\n      <th>50%</th>\n      <td>8.600000e+05</td>\n      <td>2004.000000</td>\n      <td>1.000000</td>\n      <td>7.000000</td>\n      <td>17.000000</td>\n      <td>1215.000000</td>\n      <td>2.000000</td>\n      <td>2.000000</td>\n      <td>13.000000</td>\n      <td>737787.000000</td>\n      <td>0.000000</td>\n      <td>1.000000</td>\n      <td>1.000000</td>\n      <td>1.000000</td>\n    </tr>\n    <tr>\n      <th>75%</th>\n      <td>1.398000e+06</td>\n      <td>2015.000000</td>\n      <td>1.000000</td>\n      <td>11.000000</td>\n      <td>35.000000</td>\n      <td>2121.500000</td>\n      <td>4.000000</td>\n      <td>3.000000</td>\n      <td>37.000000</td>\n      <td>737892.000000</td>\n      <td>4056.990000</td>\n      <td>1.000000</td>\n      <td>2.000000</td>\n      <td>2.000000</td>\n    </tr>\n    <tr>\n      <th>max</th>\n      <td>2.980000e+07</td>\n      <td>9999.000000</td>\n      <td>7.000000</td>\n      <td>30.000000</td>\n      <td>1818.000000</td>\n      <td>15371.000000</td>\n      <td>11.000000</td>\n      <td>12.000000</td>\n      <td>543.000000</td>\n      <td>737973.000000</td>\n      <td>801000.000000</td>\n      <td>5.000000</td>\n      <td>31.000000</td>\n      <td>23.000000</td>\n    </tr>\n  </tbody>\n</table>\n</div>"
     },
     "metadata": {},
     "execution_count": 26
    }
   ],
   "source": [
    "df.describe()"
   ]
  },
  {
   "cell_type": "code",
   "execution_count": 27,
   "metadata": {},
   "outputs": [
    {
     "output_type": "execute_result",
     "data": {
      "text/plain": [
       "Prop Type                                object\n",
       "S/A                                      object\n",
       "Price                                     int64\n",
       "Yr Blt                                  float64\n",
       "TypeDwel                                 object\n",
       "# of Kitchens                           float64\n",
       "# Rms                                   float64\n",
       "Age                                     float64\n",
       "Floor Area -Grand Total                 float64\n",
       "Area                                     object\n",
       "Type                                     object\n",
       "Total Bedrooms                          float64\n",
       "Total Baths                             float64\n",
       "Days On Market                            int64\n",
       "List Date                                 int64\n",
       "Lot Sz (Sq.Ft.)                         float64\n",
       "View                                     object\n",
       "Fireplaces                              float64\n",
       "Parking Places - Total                  float64\n",
       "No. Floor Levels                        float64\n",
       "Dist to School/School Bus changed        object\n",
       "Distance to Pub/Rapid Tr changed         object\n",
       "Zoning changed                           object\n",
       "Realtor remarks sentiment classified     object\n",
       "Public remarks sentiment classified      object\n",
       "dtype: object"
      ]
     },
     "metadata": {},
     "execution_count": 27
    }
   ],
   "source": [
    "df.dtypes"
   ]
  },
  {
   "cell_type": "code",
   "execution_count": 29,
   "metadata": {},
   "outputs": [
    {
     "output_type": "execute_result",
     "data": {
      "text/plain": [
       "CD       1164\n",
       "M        1122\n",
       "other    1100\n",
       "RS       1057\n",
       "C         372\n",
       "RT        289\n",
       "RA        211\n",
       "DD         95\n",
       "HA         20\n",
       "I          13\n",
       "MC          7\n",
       "DEOD        1\n",
       "Name: Zoning changed, dtype: int64"
      ]
     },
     "metadata": {},
     "execution_count": 29
    }
   ],
   "source": [
    "df['Zoning changed'].value_counts()"
   ]
  },
  {
   "cell_type": "code",
   "execution_count": 30,
   "metadata": {},
   "outputs": [
    {
     "output_type": "execute_result",
     "data": {
      "text/plain": [
       "Residential Attached    3719\n",
       "Residential Detached    1732\n",
       "Name: Prop Type, dtype: int64"
      ]
     },
     "metadata": {},
     "execution_count": 30
    }
   ],
   "source": [
    "df['Prop Type'].value_counts()"
   ]
  }
 ]
}