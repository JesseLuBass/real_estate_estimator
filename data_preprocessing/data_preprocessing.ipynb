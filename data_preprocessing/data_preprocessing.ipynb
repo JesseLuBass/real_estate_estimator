{
 "metadata": {
  "language_info": {
   "codemirror_mode": {
    "name": "ipython",
    "version": 3
   },
   "file_extension": ".py",
   "mimetype": "text/x-python",
   "name": "python",
   "nbconvert_exporter": "python",
   "pygments_lexer": "ipython3",
   "version": "3.8.8"
  },
  "orig_nbformat": 4,
  "kernelspec": {
   "name": "python3",
   "display_name": "Python 3.8.8 64-bit ('base': conda)"
  },
  "interpreter": {
   "hash": "b3ba2566441a7c06988d0923437866b63cedc61552a5af99d1f4fb67d367b25f"
  }
 },
 "nbformat": 4,
 "nbformat_minor": 2,
 "cells": [
  {
   "cell_type": "code",
   "execution_count": 2,
   "metadata": {},
   "outputs": [],
   "source": [
    "# please find the aforementioned 'data_raw.csv' in the 'data_raw' folder\n",
    "import pandas as pd \n",
    "frame = pd.read_csv('data_raw.csv')"
   ]
  },
  {
   "cell_type": "code",
   "execution_count": 13,
   "metadata": {},
   "outputs": [],
   "source": [
    "# copying frame into df \n",
    "df = frame.copy()"
   ]
  },
  {
   "cell_type": "code",
   "execution_count": 14,
   "metadata": {},
   "outputs": [
    {
     "output_type": "execute_result",
     "data": {
      "text/plain": [
       "              Prop Type Status             S/A     Price  Yr Blt TypeDwel  \\\n",
       "0  Residential Attached      S       Brighouse  $438,000  2008.0     APTU   \n",
       "1  Residential Attached      S    West Central  $438,000  1999.0     APTU   \n",
       "2  Residential Attached      S  Collingwood VE  $438,000  1992.0     APTU   \n",
       "3  Residential Attached      A       Brighouse  $438,000  1971.0     APTU   \n",
       "4  Residential Attached      S     West End VW  $438,000  1984.0     APTU   \n",
       "\n",
       "   # of Kitchens  # Rms   Age Floor Area -Grand Total  ...  \\\n",
       "0            1.0    5.0  12.0                     559  ...   \n",
       "1            1.0    7.0  21.0                   1,248  ...   \n",
       "2            1.0    5.0  29.0                     672  ...   \n",
       "3            1.0    5.0  50.0                     804  ...   \n",
       "4            1.0    5.0  36.0                     552  ...   \n",
       "\n",
       "                                     Realtor Remarks Sold Price  \\\n",
       "0  Parking #24 on P2.  No locker.  Please sign & ...   $438,000   \n",
       "1  Touchbase for booking appts. Ensure your clien...   $438,000   \n",
       "2  All measurements are approximate only, Buyer t...   $438,000   \n",
       "3  L/S has key to show anytime. Outdoor parking #285        NaN   \n",
       "4  Measurements and Sq. ft are approx, via SP, an...   $438,000   \n",
       "\n",
       "  Sold Price per SqFt  Parking Places - Total  Gross Taxes  \\\n",
       "0             $783.54                     1.0    $1,394.74   \n",
       "1             $350.96                     1.0    $2,542.73   \n",
       "2             $651.79                     1.0    $1,001.26   \n",
       "3                 NaN                     1.0    $1,080.07   \n",
       "4             $793.48                     1.0    $1,399.54   \n",
       "\n",
       "  Dist to School/School Bus  Distance to Pub/Rapid Tr  \\\n",
       "0                     Close                     Close   \n",
       "1                       NaN                 1/2 BLOCK   \n",
       "2                       NaN                       NaN   \n",
       "3                   2 block                 One block   \n",
       "4                       NaN                       NaN   \n",
       "\n",
       "                         Owner Name Protected Owner Name No. Floor Levels  \n",
       "0                     XIAO DAN WANG                  NaN              1.0  \n",
       "1   Michael Zamprogno & Jade Werger                  NaN              1.0  \n",
       "2             **Privacy Protected**                  NaN              1.0  \n",
       "3  Paul Wing Ming Pi, Glara Ming Pi                  NaN              1.0  \n",
       "4             **Privacy Protected**                  NaN              1.0  \n",
       "\n",
       "[5 rows x 43 columns]"
      ],
      "text/html": "<div>\n<style scoped>\n    .dataframe tbody tr th:only-of-type {\n        vertical-align: middle;\n    }\n\n    .dataframe tbody tr th {\n        vertical-align: top;\n    }\n\n    .dataframe thead th {\n        text-align: right;\n    }\n</style>\n<table border=\"1\" class=\"dataframe\">\n  <thead>\n    <tr style=\"text-align: right;\">\n      <th></th>\n      <th>Prop Type</th>\n      <th>Status</th>\n      <th>S/A</th>\n      <th>Price</th>\n      <th>Yr Blt</th>\n      <th>TypeDwel</th>\n      <th># of Kitchens</th>\n      <th># Rms</th>\n      <th>Age</th>\n      <th>Floor Area -Grand Total</th>\n      <th>...</th>\n      <th>Realtor Remarks</th>\n      <th>Sold Price</th>\n      <th>Sold Price per SqFt</th>\n      <th>Parking Places - Total</th>\n      <th>Gross Taxes</th>\n      <th>Dist to School/School Bus</th>\n      <th>Distance to Pub/Rapid Tr</th>\n      <th>Owner Name</th>\n      <th>Protected Owner Name</th>\n      <th>No. Floor Levels</th>\n    </tr>\n  </thead>\n  <tbody>\n    <tr>\n      <th>0</th>\n      <td>Residential Attached</td>\n      <td>S</td>\n      <td>Brighouse</td>\n      <td>$438,000</td>\n      <td>2008.0</td>\n      <td>APTU</td>\n      <td>1.0</td>\n      <td>5.0</td>\n      <td>12.0</td>\n      <td>559</td>\n      <td>...</td>\n      <td>Parking #24 on P2.  No locker.  Please sign &amp; ...</td>\n      <td>$438,000</td>\n      <td>$783.54</td>\n      <td>1.0</td>\n      <td>$1,394.74</td>\n      <td>Close</td>\n      <td>Close</td>\n      <td>XIAO DAN WANG</td>\n      <td>NaN</td>\n      <td>1.0</td>\n    </tr>\n    <tr>\n      <th>1</th>\n      <td>Residential Attached</td>\n      <td>S</td>\n      <td>West Central</td>\n      <td>$438,000</td>\n      <td>1999.0</td>\n      <td>APTU</td>\n      <td>1.0</td>\n      <td>7.0</td>\n      <td>21.0</td>\n      <td>1,248</td>\n      <td>...</td>\n      <td>Touchbase for booking appts. Ensure your clien...</td>\n      <td>$438,000</td>\n      <td>$350.96</td>\n      <td>1.0</td>\n      <td>$2,542.73</td>\n      <td>NaN</td>\n      <td>1/2 BLOCK</td>\n      <td>Michael Zamprogno &amp; Jade Werger</td>\n      <td>NaN</td>\n      <td>1.0</td>\n    </tr>\n    <tr>\n      <th>2</th>\n      <td>Residential Attached</td>\n      <td>S</td>\n      <td>Collingwood VE</td>\n      <td>$438,000</td>\n      <td>1992.0</td>\n      <td>APTU</td>\n      <td>1.0</td>\n      <td>5.0</td>\n      <td>29.0</td>\n      <td>672</td>\n      <td>...</td>\n      <td>All measurements are approximate only, Buyer t...</td>\n      <td>$438,000</td>\n      <td>$651.79</td>\n      <td>1.0</td>\n      <td>$1,001.26</td>\n      <td>NaN</td>\n      <td>NaN</td>\n      <td>**Privacy Protected**</td>\n      <td>NaN</td>\n      <td>1.0</td>\n    </tr>\n    <tr>\n      <th>3</th>\n      <td>Residential Attached</td>\n      <td>A</td>\n      <td>Brighouse</td>\n      <td>$438,000</td>\n      <td>1971.0</td>\n      <td>APTU</td>\n      <td>1.0</td>\n      <td>5.0</td>\n      <td>50.0</td>\n      <td>804</td>\n      <td>...</td>\n      <td>L/S has key to show anytime. Outdoor parking #285</td>\n      <td>NaN</td>\n      <td>NaN</td>\n      <td>1.0</td>\n      <td>$1,080.07</td>\n      <td>2 block</td>\n      <td>One block</td>\n      <td>Paul Wing Ming Pi, Glara Ming Pi</td>\n      <td>NaN</td>\n      <td>1.0</td>\n    </tr>\n    <tr>\n      <th>4</th>\n      <td>Residential Attached</td>\n      <td>S</td>\n      <td>West End VW</td>\n      <td>$438,000</td>\n      <td>1984.0</td>\n      <td>APTU</td>\n      <td>1.0</td>\n      <td>5.0</td>\n      <td>36.0</td>\n      <td>552</td>\n      <td>...</td>\n      <td>Measurements and Sq. ft are approx, via SP, an...</td>\n      <td>$438,000</td>\n      <td>$793.48</td>\n      <td>1.0</td>\n      <td>$1,399.54</td>\n      <td>NaN</td>\n      <td>NaN</td>\n      <td>**Privacy Protected**</td>\n      <td>NaN</td>\n      <td>1.0</td>\n    </tr>\n  </tbody>\n</table>\n<p>5 rows × 43 columns</p>\n</div>"
     },
     "metadata": {},
     "execution_count": 14
    }
   ],
   "source": [
    "df.head()"
   ]
  },
  {
   "cell_type": "code",
   "execution_count": 15,
   "metadata": {},
   "outputs": [
    {
     "output_type": "stream",
     "name": "stderr",
     "text": [
      "<ipython-input-15-0a99670e0fa7>:2: FutureWarning: The default value of regex will change from True to False in a future version. In addition, single character regular expressions will*not* be treated as literal strings when regex=True.\n  df['Price'] = df['Price'].str.replace('$', '')\n"
     ]
    }
   ],
   "source": [
    "# changing price to int\n",
    "df['Price'] = df['Price'].str.replace(',', '')\n",
    "df['Price'] = df['Price'].str.replace('$', '')\n",
    "df['Price'] = df['Price'].astype(int)"
   ]
  },
  {
   "cell_type": "code",
   "execution_count": 16,
   "metadata": {},
   "outputs": [],
   "source": [
    "# changing floor area to float\n",
    "df['Floor Area -Grand Total'] = df['Floor Area -Grand Total'].str.replace(',', '')\n",
    "df['Floor Area -Grand Total'] = df['Floor Area -Grand Total'].astype(float)"
   ]
  },
  {
   "cell_type": "code",
   "execution_count": 17,
   "metadata": {},
   "outputs": [],
   "source": [
    "# changing lot size to float\n",
    "df['Lot Sz (Sq.Ft.)'] = df['Lot Sz (Sq.Ft.)'].str.replace(',', '')\n",
    "df['Lot Sz (Sq.Ft.)'] = df['Lot Sz (Sq.Ft.)'].astype(float)"
   ]
  },
  {
   "cell_type": "code",
   "execution_count": 22,
   "metadata": {},
   "outputs": [
    {
     "output_type": "execute_result",
     "data": {
      "text/plain": [
       "<AxesSubplot:>"
      ]
     },
     "metadata": {},
     "execution_count": 22
    },
    {
     "output_type": "display_data",
     "data": {
      "text/plain": "<Figure size 432x288 with 1 Axes>",
      "image/svg+xml": "<?xml version=\"1.0\" encoding=\"utf-8\" standalone=\"no\"?>\r\n<!DOCTYPE svg PUBLIC \"-//W3C//DTD SVG 1.1//EN\"\r\n  \"http://www.w3.org/Graphics/SVG/1.1/DTD/svg11.dtd\">\r\n<!-- Created with matplotlib (https://matplotlib.org/) -->\r\n<svg height=\"248.518125pt\" version=\"1.1\" viewBox=\"0 0 381.65 248.518125\" width=\"381.65pt\" xmlns=\"http://www.w3.org/2000/svg\" xmlns:xlink=\"http://www.w3.org/1999/xlink\">\r\n <metadata>\r\n  <rdf:RDF xmlns:cc=\"http://creativecommons.org/ns#\" xmlns:dc=\"http://purl.org/dc/elements/1.1/\" xmlns:rdf=\"http://www.w3.org/1999/02/22-rdf-syntax-ns#\">\r\n   <cc:Work>\r\n    <dc:type rdf:resource=\"http://purl.org/dc/dcmitype/StillImage\"/>\r\n    <dc:date>2021-07-03T09:07:53.877194</dc:date>\r\n    <dc:format>image/svg+xml</dc:format>\r\n    <dc:creator>\r\n     <cc:Agent>\r\n      <dc:title>Matplotlib v3.3.4, https://matplotlib.org/</dc:title>\r\n     </cc:Agent>\r\n    </dc:creator>\r\n   </cc:Work>\r\n  </rdf:RDF>\r\n </metadata>\r\n <defs>\r\n  <style type=\"text/css\">*{stroke-linecap:butt;stroke-linejoin:round;}</style>\r\n </defs>\r\n <g id=\"figure_1\">\r\n  <g id=\"patch_1\">\r\n   <path d=\"M -0 248.518125 \r\nL 381.65 248.518125 \r\nL 381.65 0 \r\nL -0 0 \r\nz\r\n\" style=\"fill:none;\"/>\r\n  </g>\r\n  <g id=\"axes_1\">\r\n   <g id=\"patch_2\">\r\n    <path d=\"M 39.65 224.64 \r\nL 374.45 224.64 \r\nL 374.45 7.2 \r\nL 39.65 7.2 \r\nz\r\n\" style=\"fill:#ffffff;\"/>\r\n   </g>\r\n   <g id=\"matplotlib.axis_1\">\r\n    <g id=\"xtick_1\">\r\n     <g id=\"line2d_1\">\r\n      <defs>\r\n       <path d=\"M 0 0 \r\nL 0 3.5 \r\n\" id=\"md4fe8540ae\" style=\"stroke:#000000;stroke-width:0.8;\"/>\r\n      </defs>\r\n      <g>\r\n       <use style=\"stroke:#000000;stroke-width:0.8;\" x=\"54.868182\" xlink:href=\"#md4fe8540ae\" y=\"224.64\"/>\r\n      </g>\r\n     </g>\r\n     <g id=\"text_1\">\r\n      <!-- Downtown VW -->\r\n      <g transform=\"translate(18.470526 239.238437)scale(0.1 -0.1)\">\r\n       <defs>\r\n        <path d=\"M 19.671875 64.796875 \r\nL 19.671875 8.109375 \r\nL 31.59375 8.109375 \r\nQ 46.6875 8.109375 53.6875 14.9375 \r\nQ 60.6875 21.78125 60.6875 36.53125 \r\nQ 60.6875 51.171875 53.6875 57.984375 \r\nQ 46.6875 64.796875 31.59375 64.796875 \r\nz\r\nM 9.8125 72.90625 \r\nL 30.078125 72.90625 \r\nQ 51.265625 72.90625 61.171875 64.09375 \r\nQ 71.09375 55.28125 71.09375 36.53125 \r\nQ 71.09375 17.671875 61.125 8.828125 \r\nQ 51.171875 0 30.078125 0 \r\nL 9.8125 0 \r\nz\r\n\" id=\"DejaVuSans-68\"/>\r\n        <path d=\"M 30.609375 48.390625 \r\nQ 23.390625 48.390625 19.1875 42.75 \r\nQ 14.984375 37.109375 14.984375 27.296875 \r\nQ 14.984375 17.484375 19.15625 11.84375 \r\nQ 23.34375 6.203125 30.609375 6.203125 \r\nQ 37.796875 6.203125 41.984375 11.859375 \r\nQ 46.1875 17.53125 46.1875 27.296875 \r\nQ 46.1875 37.015625 41.984375 42.703125 \r\nQ 37.796875 48.390625 30.609375 48.390625 \r\nz\r\nM 30.609375 56 \r\nQ 42.328125 56 49.015625 48.375 \r\nQ 55.71875 40.765625 55.71875 27.296875 \r\nQ 55.71875 13.875 49.015625 6.21875 \r\nQ 42.328125 -1.421875 30.609375 -1.421875 \r\nQ 18.84375 -1.421875 12.171875 6.21875 \r\nQ 5.515625 13.875 5.515625 27.296875 \r\nQ 5.515625 40.765625 12.171875 48.375 \r\nQ 18.84375 56 30.609375 56 \r\nz\r\n\" id=\"DejaVuSans-111\"/>\r\n        <path d=\"M 4.203125 54.6875 \r\nL 13.1875 54.6875 \r\nL 24.421875 12.015625 \r\nL 35.59375 54.6875 \r\nL 46.1875 54.6875 \r\nL 57.421875 12.015625 \r\nL 68.609375 54.6875 \r\nL 77.59375 54.6875 \r\nL 63.28125 0 \r\nL 52.6875 0 \r\nL 40.921875 44.828125 \r\nL 29.109375 0 \r\nL 18.5 0 \r\nz\r\n\" id=\"DejaVuSans-119\"/>\r\n        <path d=\"M 54.890625 33.015625 \r\nL 54.890625 0 \r\nL 45.90625 0 \r\nL 45.90625 32.71875 \r\nQ 45.90625 40.484375 42.875 44.328125 \r\nQ 39.84375 48.1875 33.796875 48.1875 \r\nQ 26.515625 48.1875 22.3125 43.546875 \r\nQ 18.109375 38.921875 18.109375 30.90625 \r\nL 18.109375 0 \r\nL 9.078125 0 \r\nL 9.078125 54.6875 \r\nL 18.109375 54.6875 \r\nL 18.109375 46.1875 \r\nQ 21.34375 51.125 25.703125 53.5625 \r\nQ 30.078125 56 35.796875 56 \r\nQ 45.21875 56 50.046875 50.171875 \r\nQ 54.890625 44.34375 54.890625 33.015625 \r\nz\r\n\" id=\"DejaVuSans-110\"/>\r\n        <path d=\"M 18.3125 70.21875 \r\nL 18.3125 54.6875 \r\nL 36.8125 54.6875 \r\nL 36.8125 47.703125 \r\nL 18.3125 47.703125 \r\nL 18.3125 18.015625 \r\nQ 18.3125 11.328125 20.140625 9.421875 \r\nQ 21.96875 7.515625 27.59375 7.515625 \r\nL 36.8125 7.515625 \r\nL 36.8125 0 \r\nL 27.59375 0 \r\nQ 17.1875 0 13.234375 3.875 \r\nQ 9.28125 7.765625 9.28125 18.015625 \r\nL 9.28125 47.703125 \r\nL 2.6875 47.703125 \r\nL 2.6875 54.6875 \r\nL 9.28125 54.6875 \r\nL 9.28125 70.21875 \r\nz\r\n\" id=\"DejaVuSans-116\"/>\r\n        <path id=\"DejaVuSans-32\"/>\r\n        <path d=\"M 28.609375 0 \r\nL 0.78125 72.90625 \r\nL 11.078125 72.90625 \r\nL 34.1875 11.53125 \r\nL 57.328125 72.90625 \r\nL 67.578125 72.90625 \r\nL 39.796875 0 \r\nz\r\n\" id=\"DejaVuSans-86\"/>\r\n        <path d=\"M 3.328125 72.90625 \r\nL 13.28125 72.90625 \r\nL 28.609375 11.28125 \r\nL 43.890625 72.90625 \r\nL 54.984375 72.90625 \r\nL 70.3125 11.28125 \r\nL 85.59375 72.90625 \r\nL 95.609375 72.90625 \r\nL 77.296875 0 \r\nL 64.890625 0 \r\nL 49.515625 63.28125 \r\nL 33.984375 0 \r\nL 21.578125 0 \r\nz\r\n\" id=\"DejaVuSans-87\"/>\r\n       </defs>\r\n       <use xlink:href=\"#DejaVuSans-68\"/>\r\n       <use x=\"77.001953\" xlink:href=\"#DejaVuSans-111\"/>\r\n       <use x=\"138.183594\" xlink:href=\"#DejaVuSans-119\"/>\r\n       <use x=\"219.970703\" xlink:href=\"#DejaVuSans-110\"/>\r\n       <use x=\"283.349609\" xlink:href=\"#DejaVuSans-116\"/>\r\n       <use x=\"322.558594\" xlink:href=\"#DejaVuSans-111\"/>\r\n       <use x=\"383.740234\" xlink:href=\"#DejaVuSans-119\"/>\r\n       <use x=\"465.527344\" xlink:href=\"#DejaVuSans-110\"/>\r\n       <use x=\"528.90625\" xlink:href=\"#DejaVuSans-32\"/>\r\n       <use x=\"560.693359\" xlink:href=\"#DejaVuSans-86\"/>\r\n       <use x=\"629.101562\" xlink:href=\"#DejaVuSans-87\"/>\r\n      </g>\r\n     </g>\r\n    </g>\r\n    <g id=\"xtick_2\">\r\n     <g id=\"line2d_2\">\r\n      <g>\r\n       <use style=\"stroke:#000000;stroke-width:0.8;\" x=\"100.568428\" xlink:href=\"#md4fe8540ae\" y=\"224.64\"/>\r\n      </g>\r\n     </g>\r\n     <g id=\"text_2\">\r\n      <!-- South Vancouver -->\r\n      <g transform=\"translate(58.11374 239.238437)scale(0.1 -0.1)\">\r\n       <defs>\r\n        <path d=\"M 53.515625 70.515625 \r\nL 53.515625 60.890625 \r\nQ 47.90625 63.578125 42.921875 64.890625 \r\nQ 37.9375 66.21875 33.296875 66.21875 \r\nQ 25.25 66.21875 20.875 63.09375 \r\nQ 16.5 59.96875 16.5 54.203125 \r\nQ 16.5 49.359375 19.40625 46.890625 \r\nQ 22.3125 44.4375 30.421875 42.921875 \r\nL 36.375 41.703125 \r\nQ 47.40625 39.59375 52.65625 34.296875 \r\nQ 57.90625 29 57.90625 20.125 \r\nQ 57.90625 9.515625 50.796875 4.046875 \r\nQ 43.703125 -1.421875 29.984375 -1.421875 \r\nQ 24.8125 -1.421875 18.96875 -0.25 \r\nQ 13.140625 0.921875 6.890625 3.21875 \r\nL 6.890625 13.375 \r\nQ 12.890625 10.015625 18.65625 8.296875 \r\nQ 24.421875 6.59375 29.984375 6.59375 \r\nQ 38.421875 6.59375 43.015625 9.90625 \r\nQ 47.609375 13.234375 47.609375 19.390625 \r\nQ 47.609375 24.75 44.3125 27.78125 \r\nQ 41.015625 30.8125 33.5 32.328125 \r\nL 27.484375 33.5 \r\nQ 16.453125 35.6875 11.515625 40.375 \r\nQ 6.59375 45.0625 6.59375 53.421875 \r\nQ 6.59375 63.09375 13.40625 68.65625 \r\nQ 20.21875 74.21875 32.171875 74.21875 \r\nQ 37.3125 74.21875 42.625 73.28125 \r\nQ 47.953125 72.359375 53.515625 70.515625 \r\nz\r\n\" id=\"DejaVuSans-83\"/>\r\n        <path d=\"M 8.5 21.578125 \r\nL 8.5 54.6875 \r\nL 17.484375 54.6875 \r\nL 17.484375 21.921875 \r\nQ 17.484375 14.15625 20.5 10.265625 \r\nQ 23.53125 6.390625 29.59375 6.390625 \r\nQ 36.859375 6.390625 41.078125 11.03125 \r\nQ 45.3125 15.671875 45.3125 23.6875 \r\nL 45.3125 54.6875 \r\nL 54.296875 54.6875 \r\nL 54.296875 0 \r\nL 45.3125 0 \r\nL 45.3125 8.40625 \r\nQ 42.046875 3.421875 37.71875 1 \r\nQ 33.40625 -1.421875 27.6875 -1.421875 \r\nQ 18.265625 -1.421875 13.375 4.4375 \r\nQ 8.5 10.296875 8.5 21.578125 \r\nz\r\nM 31.109375 56 \r\nz\r\n\" id=\"DejaVuSans-117\"/>\r\n        <path d=\"M 54.890625 33.015625 \r\nL 54.890625 0 \r\nL 45.90625 0 \r\nL 45.90625 32.71875 \r\nQ 45.90625 40.484375 42.875 44.328125 \r\nQ 39.84375 48.1875 33.796875 48.1875 \r\nQ 26.515625 48.1875 22.3125 43.546875 \r\nQ 18.109375 38.921875 18.109375 30.90625 \r\nL 18.109375 0 \r\nL 9.078125 0 \r\nL 9.078125 75.984375 \r\nL 18.109375 75.984375 \r\nL 18.109375 46.1875 \r\nQ 21.34375 51.125 25.703125 53.5625 \r\nQ 30.078125 56 35.796875 56 \r\nQ 45.21875 56 50.046875 50.171875 \r\nQ 54.890625 44.34375 54.890625 33.015625 \r\nz\r\n\" id=\"DejaVuSans-104\"/>\r\n        <path d=\"M 34.28125 27.484375 \r\nQ 23.390625 27.484375 19.1875 25 \r\nQ 14.984375 22.515625 14.984375 16.5 \r\nQ 14.984375 11.71875 18.140625 8.90625 \r\nQ 21.296875 6.109375 26.703125 6.109375 \r\nQ 34.1875 6.109375 38.703125 11.40625 \r\nQ 43.21875 16.703125 43.21875 25.484375 \r\nL 43.21875 27.484375 \r\nz\r\nM 52.203125 31.203125 \r\nL 52.203125 0 \r\nL 43.21875 0 \r\nL 43.21875 8.296875 \r\nQ 40.140625 3.328125 35.546875 0.953125 \r\nQ 30.953125 -1.421875 24.3125 -1.421875 \r\nQ 15.921875 -1.421875 10.953125 3.296875 \r\nQ 6 8.015625 6 15.921875 \r\nQ 6 25.140625 12.171875 29.828125 \r\nQ 18.359375 34.515625 30.609375 34.515625 \r\nL 43.21875 34.515625 \r\nL 43.21875 35.40625 \r\nQ 43.21875 41.609375 39.140625 45 \r\nQ 35.0625 48.390625 27.6875 48.390625 \r\nQ 23 48.390625 18.546875 47.265625 \r\nQ 14.109375 46.140625 10.015625 43.890625 \r\nL 10.015625 52.203125 \r\nQ 14.9375 54.109375 19.578125 55.046875 \r\nQ 24.21875 56 28.609375 56 \r\nQ 40.484375 56 46.34375 49.84375 \r\nQ 52.203125 43.703125 52.203125 31.203125 \r\nz\r\n\" id=\"DejaVuSans-97\"/>\r\n        <path d=\"M 48.78125 52.59375 \r\nL 48.78125 44.1875 \r\nQ 44.96875 46.296875 41.140625 47.34375 \r\nQ 37.3125 48.390625 33.40625 48.390625 \r\nQ 24.65625 48.390625 19.8125 42.84375 \r\nQ 14.984375 37.3125 14.984375 27.296875 \r\nQ 14.984375 17.28125 19.8125 11.734375 \r\nQ 24.65625 6.203125 33.40625 6.203125 \r\nQ 37.3125 6.203125 41.140625 7.25 \r\nQ 44.96875 8.296875 48.78125 10.40625 \r\nL 48.78125 2.09375 \r\nQ 45.015625 0.34375 40.984375 -0.53125 \r\nQ 36.96875 -1.421875 32.421875 -1.421875 \r\nQ 20.0625 -1.421875 12.78125 6.34375 \r\nQ 5.515625 14.109375 5.515625 27.296875 \r\nQ 5.515625 40.671875 12.859375 48.328125 \r\nQ 20.21875 56 33.015625 56 \r\nQ 37.15625 56 41.109375 55.140625 \r\nQ 45.0625 54.296875 48.78125 52.59375 \r\nz\r\n\" id=\"DejaVuSans-99\"/>\r\n        <path d=\"M 2.984375 54.6875 \r\nL 12.5 54.6875 \r\nL 29.59375 8.796875 \r\nL 46.6875 54.6875 \r\nL 56.203125 54.6875 \r\nL 35.6875 0 \r\nL 23.484375 0 \r\nz\r\n\" id=\"DejaVuSans-118\"/>\r\n        <path d=\"M 56.203125 29.59375 \r\nL 56.203125 25.203125 \r\nL 14.890625 25.203125 \r\nQ 15.484375 15.921875 20.484375 11.0625 \r\nQ 25.484375 6.203125 34.421875 6.203125 \r\nQ 39.59375 6.203125 44.453125 7.46875 \r\nQ 49.3125 8.734375 54.109375 11.28125 \r\nL 54.109375 2.78125 \r\nQ 49.265625 0.734375 44.1875 -0.34375 \r\nQ 39.109375 -1.421875 33.890625 -1.421875 \r\nQ 20.796875 -1.421875 13.15625 6.1875 \r\nQ 5.515625 13.8125 5.515625 26.8125 \r\nQ 5.515625 40.234375 12.765625 48.109375 \r\nQ 20.015625 56 32.328125 56 \r\nQ 43.359375 56 49.78125 48.890625 \r\nQ 56.203125 41.796875 56.203125 29.59375 \r\nz\r\nM 47.21875 32.234375 \r\nQ 47.125 39.59375 43.09375 43.984375 \r\nQ 39.0625 48.390625 32.421875 48.390625 \r\nQ 24.90625 48.390625 20.390625 44.140625 \r\nQ 15.875 39.890625 15.1875 32.171875 \r\nz\r\n\" id=\"DejaVuSans-101\"/>\r\n        <path d=\"M 41.109375 46.296875 \r\nQ 39.59375 47.171875 37.8125 47.578125 \r\nQ 36.03125 48 33.890625 48 \r\nQ 26.265625 48 22.1875 43.046875 \r\nQ 18.109375 38.09375 18.109375 28.8125 \r\nL 18.109375 0 \r\nL 9.078125 0 \r\nL 9.078125 54.6875 \r\nL 18.109375 54.6875 \r\nL 18.109375 46.1875 \r\nQ 20.953125 51.171875 25.484375 53.578125 \r\nQ 30.03125 56 36.53125 56 \r\nQ 37.453125 56 38.578125 55.875 \r\nQ 39.703125 55.765625 41.0625 55.515625 \r\nz\r\n\" id=\"DejaVuSans-114\"/>\r\n       </defs>\r\n       <use xlink:href=\"#DejaVuSans-83\"/>\r\n       <use x=\"63.476562\" xlink:href=\"#DejaVuSans-111\"/>\r\n       <use x=\"124.658203\" xlink:href=\"#DejaVuSans-117\"/>\r\n       <use x=\"188.037109\" xlink:href=\"#DejaVuSans-116\"/>\r\n       <use x=\"227.246094\" xlink:href=\"#DejaVuSans-104\"/>\r\n       <use x=\"290.625\" xlink:href=\"#DejaVuSans-32\"/>\r\n       <use x=\"322.412109\" xlink:href=\"#DejaVuSans-86\"/>\r\n       <use x=\"383.070312\" xlink:href=\"#DejaVuSans-97\"/>\r\n       <use x=\"444.349609\" xlink:href=\"#DejaVuSans-110\"/>\r\n       <use x=\"507.728516\" xlink:href=\"#DejaVuSans-99\"/>\r\n       <use x=\"562.708984\" xlink:href=\"#DejaVuSans-111\"/>\r\n       <use x=\"623.890625\" xlink:href=\"#DejaVuSans-117\"/>\r\n       <use x=\"687.269531\" xlink:href=\"#DejaVuSans-118\"/>\r\n       <use x=\"746.449219\" xlink:href=\"#DejaVuSans-101\"/>\r\n       <use x=\"807.972656\" xlink:href=\"#DejaVuSans-114\"/>\r\n      </g>\r\n     </g>\r\n    </g>\r\n    <g id=\"xtick_3\">\r\n     <g id=\"line2d_3\">\r\n      <g>\r\n       <use style=\"stroke:#000000;stroke-width:0.8;\" x=\"146.268673\" xlink:href=\"#md4fe8540ae\" y=\"224.64\"/>\r\n      </g>\r\n     </g>\r\n     <g id=\"text_3\">\r\n      <!-- Vancouver Heights -->\r\n      <g transform=\"translate(99.211642 239.238437)scale(0.1 -0.1)\">\r\n       <defs>\r\n        <path d=\"M 9.8125 72.90625 \r\nL 19.671875 72.90625 \r\nL 19.671875 43.015625 \r\nL 55.515625 43.015625 \r\nL 55.515625 72.90625 \r\nL 65.375 72.90625 \r\nL 65.375 0 \r\nL 55.515625 0 \r\nL 55.515625 34.71875 \r\nL 19.671875 34.71875 \r\nL 19.671875 0 \r\nL 9.8125 0 \r\nz\r\n\" id=\"DejaVuSans-72\"/>\r\n        <path d=\"M 9.421875 54.6875 \r\nL 18.40625 54.6875 \r\nL 18.40625 0 \r\nL 9.421875 0 \r\nz\r\nM 9.421875 75.984375 \r\nL 18.40625 75.984375 \r\nL 18.40625 64.59375 \r\nL 9.421875 64.59375 \r\nz\r\n\" id=\"DejaVuSans-105\"/>\r\n        <path d=\"M 45.40625 27.984375 \r\nQ 45.40625 37.75 41.375 43.109375 \r\nQ 37.359375 48.484375 30.078125 48.484375 \r\nQ 22.859375 48.484375 18.828125 43.109375 \r\nQ 14.796875 37.75 14.796875 27.984375 \r\nQ 14.796875 18.265625 18.828125 12.890625 \r\nQ 22.859375 7.515625 30.078125 7.515625 \r\nQ 37.359375 7.515625 41.375 12.890625 \r\nQ 45.40625 18.265625 45.40625 27.984375 \r\nz\r\nM 54.390625 6.78125 \r\nQ 54.390625 -7.171875 48.1875 -13.984375 \r\nQ 42 -20.796875 29.203125 -20.796875 \r\nQ 24.46875 -20.796875 20.265625 -20.09375 \r\nQ 16.0625 -19.390625 12.109375 -17.921875 \r\nL 12.109375 -9.1875 \r\nQ 16.0625 -11.328125 19.921875 -12.34375 \r\nQ 23.78125 -13.375 27.78125 -13.375 \r\nQ 36.625 -13.375 41.015625 -8.765625 \r\nQ 45.40625 -4.15625 45.40625 5.171875 \r\nL 45.40625 9.625 \r\nQ 42.625 4.78125 38.28125 2.390625 \r\nQ 33.9375 0 27.875 0 \r\nQ 17.828125 0 11.671875 7.65625 \r\nQ 5.515625 15.328125 5.515625 27.984375 \r\nQ 5.515625 40.671875 11.671875 48.328125 \r\nQ 17.828125 56 27.875 56 \r\nQ 33.9375 56 38.28125 53.609375 \r\nQ 42.625 51.21875 45.40625 46.390625 \r\nL 45.40625 54.6875 \r\nL 54.390625 54.6875 \r\nz\r\n\" id=\"DejaVuSans-103\"/>\r\n        <path d=\"M 44.28125 53.078125 \r\nL 44.28125 44.578125 \r\nQ 40.484375 46.53125 36.375 47.5 \r\nQ 32.28125 48.484375 27.875 48.484375 \r\nQ 21.1875 48.484375 17.84375 46.4375 \r\nQ 14.5 44.390625 14.5 40.28125 \r\nQ 14.5 37.15625 16.890625 35.375 \r\nQ 19.28125 33.59375 26.515625 31.984375 \r\nL 29.59375 31.296875 \r\nQ 39.15625 29.25 43.1875 25.515625 \r\nQ 47.21875 21.78125 47.21875 15.09375 \r\nQ 47.21875 7.46875 41.1875 3.015625 \r\nQ 35.15625 -1.421875 24.609375 -1.421875 \r\nQ 20.21875 -1.421875 15.453125 -0.5625 \r\nQ 10.6875 0.296875 5.421875 2 \r\nL 5.421875 11.28125 \r\nQ 10.40625 8.6875 15.234375 7.390625 \r\nQ 20.0625 6.109375 24.8125 6.109375 \r\nQ 31.15625 6.109375 34.5625 8.28125 \r\nQ 37.984375 10.453125 37.984375 14.40625 \r\nQ 37.984375 18.0625 35.515625 20.015625 \r\nQ 33.0625 21.96875 24.703125 23.78125 \r\nL 21.578125 24.515625 \r\nQ 13.234375 26.265625 9.515625 29.90625 \r\nQ 5.8125 33.546875 5.8125 39.890625 \r\nQ 5.8125 47.609375 11.28125 51.796875 \r\nQ 16.75 56 26.8125 56 \r\nQ 31.78125 56 36.171875 55.265625 \r\nQ 40.578125 54.546875 44.28125 53.078125 \r\nz\r\n\" id=\"DejaVuSans-115\"/>\r\n       </defs>\r\n       <use xlink:href=\"#DejaVuSans-86\"/>\r\n       <use x=\"60.658203\" xlink:href=\"#DejaVuSans-97\"/>\r\n       <use x=\"121.9375\" xlink:href=\"#DejaVuSans-110\"/>\r\n       <use x=\"185.316406\" xlink:href=\"#DejaVuSans-99\"/>\r\n       <use x=\"240.296875\" xlink:href=\"#DejaVuSans-111\"/>\r\n       <use x=\"301.478516\" xlink:href=\"#DejaVuSans-117\"/>\r\n       <use x=\"364.857422\" xlink:href=\"#DejaVuSans-118\"/>\r\n       <use x=\"424.037109\" xlink:href=\"#DejaVuSans-101\"/>\r\n       <use x=\"485.560547\" xlink:href=\"#DejaVuSans-114\"/>\r\n       <use x=\"526.673828\" xlink:href=\"#DejaVuSans-32\"/>\r\n       <use x=\"558.460938\" xlink:href=\"#DejaVuSans-72\"/>\r\n       <use x=\"633.65625\" xlink:href=\"#DejaVuSans-101\"/>\r\n       <use x=\"695.179688\" xlink:href=\"#DejaVuSans-105\"/>\r\n       <use x=\"722.962891\" xlink:href=\"#DejaVuSans-103\"/>\r\n       <use x=\"786.439453\" xlink:href=\"#DejaVuSans-104\"/>\r\n       <use x=\"849.818359\" xlink:href=\"#DejaVuSans-116\"/>\r\n       <use x=\"889.027344\" xlink:href=\"#DejaVuSans-115\"/>\r\n      </g>\r\n     </g>\r\n    </g>\r\n    <g id=\"xtick_4\">\r\n     <g id=\"line2d_4\">\r\n      <g>\r\n       <use style=\"stroke:#000000;stroke-width:0.8;\" x=\"191.968919\" xlink:href=\"#md4fe8540ae\" y=\"224.64\"/>\r\n      </g>\r\n     </g>\r\n     <g id=\"text_4\">\r\n      <!-- Whistler Creek -->\r\n      <g transform=\"translate(155.309544 239.238437)scale(0.1 -0.1)\">\r\n       <defs>\r\n        <path d=\"M 9.421875 75.984375 \r\nL 18.40625 75.984375 \r\nL 18.40625 0 \r\nL 9.421875 0 \r\nz\r\n\" id=\"DejaVuSans-108\"/>\r\n        <path d=\"M 64.40625 67.28125 \r\nL 64.40625 56.890625 \r\nQ 59.421875 61.53125 53.78125 63.8125 \r\nQ 48.140625 66.109375 41.796875 66.109375 \r\nQ 29.296875 66.109375 22.65625 58.46875 \r\nQ 16.015625 50.828125 16.015625 36.375 \r\nQ 16.015625 21.96875 22.65625 14.328125 \r\nQ 29.296875 6.6875 41.796875 6.6875 \r\nQ 48.140625 6.6875 53.78125 8.984375 \r\nQ 59.421875 11.28125 64.40625 15.921875 \r\nL 64.40625 5.609375 \r\nQ 59.234375 2.09375 53.4375 0.328125 \r\nQ 47.65625 -1.421875 41.21875 -1.421875 \r\nQ 24.65625 -1.421875 15.125 8.703125 \r\nQ 5.609375 18.84375 5.609375 36.375 \r\nQ 5.609375 53.953125 15.125 64.078125 \r\nQ 24.65625 74.21875 41.21875 74.21875 \r\nQ 47.75 74.21875 53.53125 72.484375 \r\nQ 59.328125 70.75 64.40625 67.28125 \r\nz\r\n\" id=\"DejaVuSans-67\"/>\r\n        <path d=\"M 9.078125 75.984375 \r\nL 18.109375 75.984375 \r\nL 18.109375 31.109375 \r\nL 44.921875 54.6875 \r\nL 56.390625 54.6875 \r\nL 27.390625 29.109375 \r\nL 57.625 0 \r\nL 45.90625 0 \r\nL 18.109375 26.703125 \r\nL 18.109375 0 \r\nL 9.078125 0 \r\nz\r\n\" id=\"DejaVuSans-107\"/>\r\n       </defs>\r\n       <use xlink:href=\"#DejaVuSans-87\"/>\r\n       <use x=\"98.876953\" xlink:href=\"#DejaVuSans-104\"/>\r\n       <use x=\"162.255859\" xlink:href=\"#DejaVuSans-105\"/>\r\n       <use x=\"190.039062\" xlink:href=\"#DejaVuSans-115\"/>\r\n       <use x=\"242.138672\" xlink:href=\"#DejaVuSans-116\"/>\r\n       <use x=\"281.347656\" xlink:href=\"#DejaVuSans-108\"/>\r\n       <use x=\"309.130859\" xlink:href=\"#DejaVuSans-101\"/>\r\n       <use x=\"370.654297\" xlink:href=\"#DejaVuSans-114\"/>\r\n       <use x=\"411.767578\" xlink:href=\"#DejaVuSans-32\"/>\r\n       <use x=\"443.554688\" xlink:href=\"#DejaVuSans-67\"/>\r\n       <use x=\"513.378906\" xlink:href=\"#DejaVuSans-114\"/>\r\n       <use x=\"552.242188\" xlink:href=\"#DejaVuSans-101\"/>\r\n       <use x=\"613.765625\" xlink:href=\"#DejaVuSans-101\"/>\r\n       <use x=\"675.289062\" xlink:href=\"#DejaVuSans-107\"/>\r\n      </g>\r\n     </g>\r\n    </g>\r\n    <g id=\"xtick_5\">\r\n     <g id=\"line2d_5\">\r\n      <g>\r\n       <use style=\"stroke:#000000;stroke-width:0.8;\" x=\"237.669165\" xlink:href=\"#md4fe8540ae\" y=\"224.64\"/>\r\n      </g>\r\n     </g>\r\n     <g id=\"text_5\">\r\n      <!-- Harbourside -->\r\n      <g transform=\"translate(207.087133 239.238437)scale(0.1 -0.1)\">\r\n       <defs>\r\n        <path d=\"M 48.6875 27.296875 \r\nQ 48.6875 37.203125 44.609375 42.84375 \r\nQ 40.53125 48.484375 33.40625 48.484375 \r\nQ 26.265625 48.484375 22.1875 42.84375 \r\nQ 18.109375 37.203125 18.109375 27.296875 \r\nQ 18.109375 17.390625 22.1875 11.75 \r\nQ 26.265625 6.109375 33.40625 6.109375 \r\nQ 40.53125 6.109375 44.609375 11.75 \r\nQ 48.6875 17.390625 48.6875 27.296875 \r\nz\r\nM 18.109375 46.390625 \r\nQ 20.953125 51.265625 25.265625 53.625 \r\nQ 29.59375 56 35.59375 56 \r\nQ 45.5625 56 51.78125 48.09375 \r\nQ 58.015625 40.1875 58.015625 27.296875 \r\nQ 58.015625 14.40625 51.78125 6.484375 \r\nQ 45.5625 -1.421875 35.59375 -1.421875 \r\nQ 29.59375 -1.421875 25.265625 0.953125 \r\nQ 20.953125 3.328125 18.109375 8.203125 \r\nL 18.109375 0 \r\nL 9.078125 0 \r\nL 9.078125 75.984375 \r\nL 18.109375 75.984375 \r\nz\r\n\" id=\"DejaVuSans-98\"/>\r\n        <path d=\"M 45.40625 46.390625 \r\nL 45.40625 75.984375 \r\nL 54.390625 75.984375 \r\nL 54.390625 0 \r\nL 45.40625 0 \r\nL 45.40625 8.203125 \r\nQ 42.578125 3.328125 38.25 0.953125 \r\nQ 33.9375 -1.421875 27.875 -1.421875 \r\nQ 17.96875 -1.421875 11.734375 6.484375 \r\nQ 5.515625 14.40625 5.515625 27.296875 \r\nQ 5.515625 40.1875 11.734375 48.09375 \r\nQ 17.96875 56 27.875 56 \r\nQ 33.9375 56 38.25 53.625 \r\nQ 42.578125 51.265625 45.40625 46.390625 \r\nz\r\nM 14.796875 27.296875 \r\nQ 14.796875 17.390625 18.875 11.75 \r\nQ 22.953125 6.109375 30.078125 6.109375 \r\nQ 37.203125 6.109375 41.296875 11.75 \r\nQ 45.40625 17.390625 45.40625 27.296875 \r\nQ 45.40625 37.203125 41.296875 42.84375 \r\nQ 37.203125 48.484375 30.078125 48.484375 \r\nQ 22.953125 48.484375 18.875 42.84375 \r\nQ 14.796875 37.203125 14.796875 27.296875 \r\nz\r\n\" id=\"DejaVuSans-100\"/>\r\n       </defs>\r\n       <use xlink:href=\"#DejaVuSans-72\"/>\r\n       <use x=\"75.195312\" xlink:href=\"#DejaVuSans-97\"/>\r\n       <use x=\"136.474609\" xlink:href=\"#DejaVuSans-114\"/>\r\n       <use x=\"177.587891\" xlink:href=\"#DejaVuSans-98\"/>\r\n       <use x=\"241.064453\" xlink:href=\"#DejaVuSans-111\"/>\r\n       <use x=\"302.246094\" xlink:href=\"#DejaVuSans-117\"/>\r\n       <use x=\"365.625\" xlink:href=\"#DejaVuSans-114\"/>\r\n       <use x=\"406.738281\" xlink:href=\"#DejaVuSans-115\"/>\r\n       <use x=\"458.837891\" xlink:href=\"#DejaVuSans-105\"/>\r\n       <use x=\"486.621094\" xlink:href=\"#DejaVuSans-100\"/>\r\n       <use x=\"550.097656\" xlink:href=\"#DejaVuSans-101\"/>\r\n      </g>\r\n     </g>\r\n    </g>\r\n    <g id=\"xtick_6\">\r\n     <g id=\"line2d_6\">\r\n      <g>\r\n       <use style=\"stroke:#000000;stroke-width:0.8;\" x=\"283.36941\" xlink:href=\"#md4fe8540ae\" y=\"224.64\"/>\r\n      </g>\r\n     </g>\r\n     <g id=\"text_6\">\r\n      <!-- Princess Park -->\r\n      <g transform=\"translate(250.399879 239.238437)scale(0.1 -0.1)\">\r\n       <defs>\r\n        <path d=\"M 19.671875 64.796875 \r\nL 19.671875 37.40625 \r\nL 32.078125 37.40625 \r\nQ 38.96875 37.40625 42.71875 40.96875 \r\nQ 46.484375 44.53125 46.484375 51.125 \r\nQ 46.484375 57.671875 42.71875 61.234375 \r\nQ 38.96875 64.796875 32.078125 64.796875 \r\nz\r\nM 9.8125 72.90625 \r\nL 32.078125 72.90625 \r\nQ 44.34375 72.90625 50.609375 67.359375 \r\nQ 56.890625 61.8125 56.890625 51.125 \r\nQ 56.890625 40.328125 50.609375 34.8125 \r\nQ 44.34375 29.296875 32.078125 29.296875 \r\nL 19.671875 29.296875 \r\nL 19.671875 0 \r\nL 9.8125 0 \r\nz\r\n\" id=\"DejaVuSans-80\"/>\r\n       </defs>\r\n       <use xlink:href=\"#DejaVuSans-80\"/>\r\n       <use x=\"58.552734\" xlink:href=\"#DejaVuSans-114\"/>\r\n       <use x=\"99.666016\" xlink:href=\"#DejaVuSans-105\"/>\r\n       <use x=\"127.449219\" xlink:href=\"#DejaVuSans-110\"/>\r\n       <use x=\"190.828125\" xlink:href=\"#DejaVuSans-99\"/>\r\n       <use x=\"245.808594\" xlink:href=\"#DejaVuSans-101\"/>\r\n       <use x=\"307.332031\" xlink:href=\"#DejaVuSans-115\"/>\r\n       <use x=\"359.431641\" xlink:href=\"#DejaVuSans-115\"/>\r\n       <use x=\"411.53125\" xlink:href=\"#DejaVuSans-32\"/>\r\n       <use x=\"443.318359\" xlink:href=\"#DejaVuSans-80\"/>\r\n       <use x=\"499.121094\" xlink:href=\"#DejaVuSans-97\"/>\r\n       <use x=\"560.400391\" xlink:href=\"#DejaVuSans-114\"/>\r\n       <use x=\"601.513672\" xlink:href=\"#DejaVuSans-107\"/>\r\n      </g>\r\n     </g>\r\n    </g>\r\n    <g id=\"xtick_7\">\r\n     <g id=\"line2d_7\">\r\n      <g>\r\n       <use style=\"stroke:#000000;stroke-width:0.8;\" x=\"329.069656\" xlink:href=\"#md4fe8540ae\" y=\"224.64\"/>\r\n      </g>\r\n     </g>\r\n     <g id=\"text_7\">\r\n      <!-- Deer Ridge WV -->\r\n      <g transform=\"translate(291.180594 239.238437)scale(0.1 -0.1)\">\r\n       <defs>\r\n        <path d=\"M 44.390625 34.1875 \r\nQ 47.5625 33.109375 50.5625 29.59375 \r\nQ 53.5625 26.078125 56.59375 19.921875 \r\nL 66.609375 0 \r\nL 56 0 \r\nL 46.6875 18.703125 \r\nQ 43.0625 26.03125 39.671875 28.421875 \r\nQ 36.28125 30.8125 30.421875 30.8125 \r\nL 19.671875 30.8125 \r\nL 19.671875 0 \r\nL 9.8125 0 \r\nL 9.8125 72.90625 \r\nL 32.078125 72.90625 \r\nQ 44.578125 72.90625 50.734375 67.671875 \r\nQ 56.890625 62.453125 56.890625 51.90625 \r\nQ 56.890625 45.015625 53.6875 40.46875 \r\nQ 50.484375 35.9375 44.390625 34.1875 \r\nz\r\nM 19.671875 64.796875 \r\nL 19.671875 38.921875 \r\nL 32.078125 38.921875 \r\nQ 39.203125 38.921875 42.84375 42.21875 \r\nQ 46.484375 45.515625 46.484375 51.90625 \r\nQ 46.484375 58.296875 42.84375 61.546875 \r\nQ 39.203125 64.796875 32.078125 64.796875 \r\nz\r\n\" id=\"DejaVuSans-82\"/>\r\n       </defs>\r\n       <use xlink:href=\"#DejaVuSans-68\"/>\r\n       <use x=\"77.001953\" xlink:href=\"#DejaVuSans-101\"/>\r\n       <use x=\"138.525391\" xlink:href=\"#DejaVuSans-101\"/>\r\n       <use x=\"200.048828\" xlink:href=\"#DejaVuSans-114\"/>\r\n       <use x=\"241.162109\" xlink:href=\"#DejaVuSans-32\"/>\r\n       <use x=\"272.949219\" xlink:href=\"#DejaVuSans-82\"/>\r\n       <use x=\"342.431641\" xlink:href=\"#DejaVuSans-105\"/>\r\n       <use x=\"370.214844\" xlink:href=\"#DejaVuSans-100\"/>\r\n       <use x=\"433.691406\" xlink:href=\"#DejaVuSans-103\"/>\r\n       <use x=\"497.167969\" xlink:href=\"#DejaVuSans-101\"/>\r\n       <use x=\"558.691406\" xlink:href=\"#DejaVuSans-32\"/>\r\n       <use x=\"590.478516\" xlink:href=\"#DejaVuSans-87\"/>\r\n       <use x=\"689.355469\" xlink:href=\"#DejaVuSans-86\"/>\r\n      </g>\r\n     </g>\r\n    </g>\r\n   </g>\r\n   <g id=\"matplotlib.axis_2\">\r\n    <g id=\"ytick_1\">\r\n     <g id=\"line2d_8\">\r\n      <defs>\r\n       <path d=\"M 0 0 \r\nL -3.5 0 \r\n\" id=\"mf1f148f95f\" style=\"stroke:#000000;stroke-width:0.8;\"/>\r\n      </defs>\r\n      <g>\r\n       <use style=\"stroke:#000000;stroke-width:0.8;\" x=\"39.65\" xlink:href=\"#mf1f148f95f\" y=\"214.877487\"/>\r\n      </g>\r\n     </g>\r\n     <g id=\"text_8\">\r\n      <!-- 0 -->\r\n      <g transform=\"translate(26.2875 218.676705)scale(0.1 -0.1)\">\r\n       <defs>\r\n        <path d=\"M 31.78125 66.40625 \r\nQ 24.171875 66.40625 20.328125 58.90625 \r\nQ 16.5 51.421875 16.5 36.375 \r\nQ 16.5 21.390625 20.328125 13.890625 \r\nQ 24.171875 6.390625 31.78125 6.390625 \r\nQ 39.453125 6.390625 43.28125 13.890625 \r\nQ 47.125 21.390625 47.125 36.375 \r\nQ 47.125 51.421875 43.28125 58.90625 \r\nQ 39.453125 66.40625 31.78125 66.40625 \r\nz\r\nM 31.78125 74.21875 \r\nQ 44.046875 74.21875 50.515625 64.515625 \r\nQ 56.984375 54.828125 56.984375 36.375 \r\nQ 56.984375 17.96875 50.515625 8.265625 \r\nQ 44.046875 -1.421875 31.78125 -1.421875 \r\nQ 19.53125 -1.421875 13.0625 8.265625 \r\nQ 6.59375 17.96875 6.59375 36.375 \r\nQ 6.59375 54.828125 13.0625 64.515625 \r\nQ 19.53125 74.21875 31.78125 74.21875 \r\nz\r\n\" id=\"DejaVuSans-48\"/>\r\n       </defs>\r\n       <use xlink:href=\"#DejaVuSans-48\"/>\r\n      </g>\r\n     </g>\r\n    </g>\r\n    <g id=\"ytick_2\">\r\n     <g id=\"line2d_9\">\r\n      <g>\r\n       <use style=\"stroke:#000000;stroke-width:0.8;\" x=\"39.65\" xlink:href=\"#mf1f148f95f\" y=\"190.652888\"/>\r\n      </g>\r\n     </g>\r\n     <g id=\"text_9\">\r\n      <!-- 200 -->\r\n      <g transform=\"translate(13.5625 194.452106)scale(0.1 -0.1)\">\r\n       <defs>\r\n        <path d=\"M 19.1875 8.296875 \r\nL 53.609375 8.296875 \r\nL 53.609375 0 \r\nL 7.328125 0 \r\nL 7.328125 8.296875 \r\nQ 12.9375 14.109375 22.625 23.890625 \r\nQ 32.328125 33.6875 34.8125 36.53125 \r\nQ 39.546875 41.84375 41.421875 45.53125 \r\nQ 43.3125 49.21875 43.3125 52.78125 \r\nQ 43.3125 58.59375 39.234375 62.25 \r\nQ 35.15625 65.921875 28.609375 65.921875 \r\nQ 23.96875 65.921875 18.8125 64.3125 \r\nQ 13.671875 62.703125 7.8125 59.421875 \r\nL 7.8125 69.390625 \r\nQ 13.765625 71.78125 18.9375 73 \r\nQ 24.125 74.21875 28.421875 74.21875 \r\nQ 39.75 74.21875 46.484375 68.546875 \r\nQ 53.21875 62.890625 53.21875 53.421875 \r\nQ 53.21875 48.921875 51.53125 44.890625 \r\nQ 49.859375 40.875 45.40625 35.40625 \r\nQ 44.1875 33.984375 37.640625 27.21875 \r\nQ 31.109375 20.453125 19.1875 8.296875 \r\nz\r\n\" id=\"DejaVuSans-50\"/>\r\n       </defs>\r\n       <use xlink:href=\"#DejaVuSans-50\"/>\r\n       <use x=\"63.623047\" xlink:href=\"#DejaVuSans-48\"/>\r\n       <use x=\"127.246094\" xlink:href=\"#DejaVuSans-48\"/>\r\n      </g>\r\n     </g>\r\n    </g>\r\n    <g id=\"ytick_3\">\r\n     <g id=\"line2d_10\">\r\n      <g>\r\n       <use style=\"stroke:#000000;stroke-width:0.8;\" x=\"39.65\" xlink:href=\"#mf1f148f95f\" y=\"166.428289\"/>\r\n      </g>\r\n     </g>\r\n     <g id=\"text_10\">\r\n      <!-- 400 -->\r\n      <g transform=\"translate(13.5625 170.227508)scale(0.1 -0.1)\">\r\n       <defs>\r\n        <path d=\"M 37.796875 64.3125 \r\nL 12.890625 25.390625 \r\nL 37.796875 25.390625 \r\nz\r\nM 35.203125 72.90625 \r\nL 47.609375 72.90625 \r\nL 47.609375 25.390625 \r\nL 58.015625 25.390625 \r\nL 58.015625 17.1875 \r\nL 47.609375 17.1875 \r\nL 47.609375 0 \r\nL 37.796875 0 \r\nL 37.796875 17.1875 \r\nL 4.890625 17.1875 \r\nL 4.890625 26.703125 \r\nz\r\n\" id=\"DejaVuSans-52\"/>\r\n       </defs>\r\n       <use xlink:href=\"#DejaVuSans-52\"/>\r\n       <use x=\"63.623047\" xlink:href=\"#DejaVuSans-48\"/>\r\n       <use x=\"127.246094\" xlink:href=\"#DejaVuSans-48\"/>\r\n      </g>\r\n     </g>\r\n    </g>\r\n    <g id=\"ytick_4\">\r\n     <g id=\"line2d_11\">\r\n      <g>\r\n       <use style=\"stroke:#000000;stroke-width:0.8;\" x=\"39.65\" xlink:href=\"#mf1f148f95f\" y=\"142.20369\"/>\r\n      </g>\r\n     </g>\r\n     <g id=\"text_11\">\r\n      <!-- 600 -->\r\n      <g transform=\"translate(13.5625 146.002909)scale(0.1 -0.1)\">\r\n       <defs>\r\n        <path d=\"M 33.015625 40.375 \r\nQ 26.375 40.375 22.484375 35.828125 \r\nQ 18.609375 31.296875 18.609375 23.390625 \r\nQ 18.609375 15.53125 22.484375 10.953125 \r\nQ 26.375 6.390625 33.015625 6.390625 \r\nQ 39.65625 6.390625 43.53125 10.953125 \r\nQ 47.40625 15.53125 47.40625 23.390625 \r\nQ 47.40625 31.296875 43.53125 35.828125 \r\nQ 39.65625 40.375 33.015625 40.375 \r\nz\r\nM 52.59375 71.296875 \r\nL 52.59375 62.3125 \r\nQ 48.875 64.0625 45.09375 64.984375 \r\nQ 41.3125 65.921875 37.59375 65.921875 \r\nQ 27.828125 65.921875 22.671875 59.328125 \r\nQ 17.53125 52.734375 16.796875 39.40625 \r\nQ 19.671875 43.65625 24.015625 45.921875 \r\nQ 28.375 48.1875 33.59375 48.1875 \r\nQ 44.578125 48.1875 50.953125 41.515625 \r\nQ 57.328125 34.859375 57.328125 23.390625 \r\nQ 57.328125 12.15625 50.6875 5.359375 \r\nQ 44.046875 -1.421875 33.015625 -1.421875 \r\nQ 20.359375 -1.421875 13.671875 8.265625 \r\nQ 6.984375 17.96875 6.984375 36.375 \r\nQ 6.984375 53.65625 15.1875 63.9375 \r\nQ 23.390625 74.21875 37.203125 74.21875 \r\nQ 40.921875 74.21875 44.703125 73.484375 \r\nQ 48.484375 72.75 52.59375 71.296875 \r\nz\r\n\" id=\"DejaVuSans-54\"/>\r\n       </defs>\r\n       <use xlink:href=\"#DejaVuSans-54\"/>\r\n       <use x=\"63.623047\" xlink:href=\"#DejaVuSans-48\"/>\r\n       <use x=\"127.246094\" xlink:href=\"#DejaVuSans-48\"/>\r\n      </g>\r\n     </g>\r\n    </g>\r\n    <g id=\"ytick_5\">\r\n     <g id=\"line2d_12\">\r\n      <g>\r\n       <use style=\"stroke:#000000;stroke-width:0.8;\" x=\"39.65\" xlink:href=\"#mf1f148f95f\" y=\"117.979091\"/>\r\n      </g>\r\n     </g>\r\n     <g id=\"text_12\">\r\n      <!-- 800 -->\r\n      <g transform=\"translate(13.5625 121.77831)scale(0.1 -0.1)\">\r\n       <defs>\r\n        <path d=\"M 31.78125 34.625 \r\nQ 24.75 34.625 20.71875 30.859375 \r\nQ 16.703125 27.09375 16.703125 20.515625 \r\nQ 16.703125 13.921875 20.71875 10.15625 \r\nQ 24.75 6.390625 31.78125 6.390625 \r\nQ 38.8125 6.390625 42.859375 10.171875 \r\nQ 46.921875 13.96875 46.921875 20.515625 \r\nQ 46.921875 27.09375 42.890625 30.859375 \r\nQ 38.875 34.625 31.78125 34.625 \r\nz\r\nM 21.921875 38.8125 \r\nQ 15.578125 40.375 12.03125 44.71875 \r\nQ 8.5 49.078125 8.5 55.328125 \r\nQ 8.5 64.0625 14.71875 69.140625 \r\nQ 20.953125 74.21875 31.78125 74.21875 \r\nQ 42.671875 74.21875 48.875 69.140625 \r\nQ 55.078125 64.0625 55.078125 55.328125 \r\nQ 55.078125 49.078125 51.53125 44.71875 \r\nQ 48 40.375 41.703125 38.8125 \r\nQ 48.828125 37.15625 52.796875 32.3125 \r\nQ 56.78125 27.484375 56.78125 20.515625 \r\nQ 56.78125 9.90625 50.3125 4.234375 \r\nQ 43.84375 -1.421875 31.78125 -1.421875 \r\nQ 19.734375 -1.421875 13.25 4.234375 \r\nQ 6.78125 9.90625 6.78125 20.515625 \r\nQ 6.78125 27.484375 10.78125 32.3125 \r\nQ 14.796875 37.15625 21.921875 38.8125 \r\nz\r\nM 18.3125 54.390625 \r\nQ 18.3125 48.734375 21.84375 45.5625 \r\nQ 25.390625 42.390625 31.78125 42.390625 \r\nQ 38.140625 42.390625 41.71875 45.5625 \r\nQ 45.3125 48.734375 45.3125 54.390625 \r\nQ 45.3125 60.0625 41.71875 63.234375 \r\nQ 38.140625 66.40625 31.78125 66.40625 \r\nQ 25.390625 66.40625 21.84375 63.234375 \r\nQ 18.3125 60.0625 18.3125 54.390625 \r\nz\r\n\" id=\"DejaVuSans-56\"/>\r\n       </defs>\r\n       <use xlink:href=\"#DejaVuSans-56\"/>\r\n       <use x=\"63.623047\" xlink:href=\"#DejaVuSans-48\"/>\r\n       <use x=\"127.246094\" xlink:href=\"#DejaVuSans-48\"/>\r\n      </g>\r\n     </g>\r\n    </g>\r\n    <g id=\"ytick_6\">\r\n     <g id=\"line2d_13\">\r\n      <g>\r\n       <use style=\"stroke:#000000;stroke-width:0.8;\" x=\"39.65\" xlink:href=\"#mf1f148f95f\" y=\"93.754492\"/>\r\n      </g>\r\n     </g>\r\n     <g id=\"text_13\">\r\n      <!-- 1000 -->\r\n      <g transform=\"translate(7.2 97.553711)scale(0.1 -0.1)\">\r\n       <defs>\r\n        <path d=\"M 12.40625 8.296875 \r\nL 28.515625 8.296875 \r\nL 28.515625 63.921875 \r\nL 10.984375 60.40625 \r\nL 10.984375 69.390625 \r\nL 28.421875 72.90625 \r\nL 38.28125 72.90625 \r\nL 38.28125 8.296875 \r\nL 54.390625 8.296875 \r\nL 54.390625 0 \r\nL 12.40625 0 \r\nz\r\n\" id=\"DejaVuSans-49\"/>\r\n       </defs>\r\n       <use xlink:href=\"#DejaVuSans-49\"/>\r\n       <use x=\"63.623047\" xlink:href=\"#DejaVuSans-48\"/>\r\n       <use x=\"127.246094\" xlink:href=\"#DejaVuSans-48\"/>\r\n       <use x=\"190.869141\" xlink:href=\"#DejaVuSans-48\"/>\r\n      </g>\r\n     </g>\r\n    </g>\r\n    <g id=\"ytick_7\">\r\n     <g id=\"line2d_14\">\r\n      <g>\r\n       <use style=\"stroke:#000000;stroke-width:0.8;\" x=\"39.65\" xlink:href=\"#mf1f148f95f\" y=\"69.529893\"/>\r\n      </g>\r\n     </g>\r\n     <g id=\"text_14\">\r\n      <!-- 1200 -->\r\n      <g transform=\"translate(7.2 73.329112)scale(0.1 -0.1)\">\r\n       <use xlink:href=\"#DejaVuSans-49\"/>\r\n       <use x=\"63.623047\" xlink:href=\"#DejaVuSans-50\"/>\r\n       <use x=\"127.246094\" xlink:href=\"#DejaVuSans-48\"/>\r\n       <use x=\"190.869141\" xlink:href=\"#DejaVuSans-48\"/>\r\n      </g>\r\n     </g>\r\n    </g>\r\n    <g id=\"ytick_8\">\r\n     <g id=\"line2d_15\">\r\n      <g>\r\n       <use style=\"stroke:#000000;stroke-width:0.8;\" x=\"39.65\" xlink:href=\"#mf1f148f95f\" y=\"45.305294\"/>\r\n      </g>\r\n     </g>\r\n     <g id=\"text_15\">\r\n      <!-- 1400 -->\r\n      <g transform=\"translate(7.2 49.104513)scale(0.1 -0.1)\">\r\n       <use xlink:href=\"#DejaVuSans-49\"/>\r\n       <use x=\"63.623047\" xlink:href=\"#DejaVuSans-52\"/>\r\n       <use x=\"127.246094\" xlink:href=\"#DejaVuSans-48\"/>\r\n       <use x=\"190.869141\" xlink:href=\"#DejaVuSans-48\"/>\r\n      </g>\r\n     </g>\r\n    </g>\r\n    <g id=\"ytick_9\">\r\n     <g id=\"line2d_16\">\r\n      <g>\r\n       <use style=\"stroke:#000000;stroke-width:0.8;\" x=\"39.65\" xlink:href=\"#mf1f148f95f\" y=\"21.080695\"/>\r\n      </g>\r\n     </g>\r\n     <g id=\"text_16\">\r\n      <!-- 1600 -->\r\n      <g transform=\"translate(7.2 24.879914)scale(0.1 -0.1)\">\r\n       <use xlink:href=\"#DejaVuSans-49\"/>\r\n       <use x=\"63.623047\" xlink:href=\"#DejaVuSans-54\"/>\r\n       <use x=\"127.246094\" xlink:href=\"#DejaVuSans-48\"/>\r\n       <use x=\"190.869141\" xlink:href=\"#DejaVuSans-48\"/>\r\n      </g>\r\n     </g>\r\n    </g>\r\n   </g>\r\n   <g id=\"line2d_17\">\r\n    <path clip-path=\"url(#p070c9238e8)\" d=\"M 54.868182 17.083636 \r\nL 55.782187 51.967059 \r\nL 56.696192 59.597807 \r\nL 57.610197 61.051283 \r\nL 58.524201 70.741123 \r\nL 59.438206 73.769198 \r\nL 60.352211 75.586043 \r\nL 61.266216 81.399947 \r\nL 62.180221 90.363048 \r\nL 63.094226 96.90369 \r\nL 64.008231 108.047005 \r\nL 64.922236 109.500481 \r\nL 65.836241 111.801818 \r\nL 66.750246 112.28631 \r\nL 67.664251 127.305561 \r\nL 68.578256 127.426684 \r\nL 69.49226 129.001283 \r\nL 70.406265 136.753155 \r\nL 71.32027 137.843262 \r\nL 72.234275 137.843262 \r\nL 73.14828 138.206631 \r\nL 74.062285 140.99246 \r\nL 74.97629 142.082567 \r\nL 75.890295 142.324813 \r\nL 76.8043 144.141658 \r\nL 77.718305 145.352888 \r\nL 78.63231 145.716257 \r\nL 79.546314 146.564118 \r\nL 80.460319 148.986578 \r\nL 81.374324 149.592193 \r\nL 82.288329 149.592193 \r\nL 83.202334 149.834439 \r\nL 84.116339 155.890588 \r\nL 85.030344 156.011711 \r\nL 85.944349 156.980695 \r\nL 87.772359 160.251016 \r\nL 88.686364 160.372139 \r\nL 89.600369 161.583369 \r\nL 92.342383 163.279091 \r\nL 93.256388 163.521337 \r\nL 94.170393 165.822674 \r\nL 95.998403 166.549412 \r\nL 96.912408 170.304225 \r\nL 97.826413 170.546471 \r\nL 98.740418 170.90984 \r\nL 99.654423 171.999947 \r\nL 100.568428 172.242193 \r\nL 101.482432 172.726684 \r\nL 102.396437 172.726684 \r\nL 103.310442 174.543529 \r\nL 105.138452 176.723743 \r\nL 107.880467 177.81385 \r\nL 108.794472 178.298342 \r\nL 109.708477 179.146203 \r\nL 110.622482 179.267326 \r\nL 112.450491 180.115187 \r\nL 113.364496 181.084171 \r\nL 115.192506 181.810909 \r\nL 116.106511 182.053155 \r\nL 117.020516 182.053155 \r\nL 117.934521 182.174278 \r\nL 119.762531 183.385508 \r\nL 120.676536 184.596738 \r\nL 121.590541 185.565722 \r\nL 122.504545 185.686845 \r\nL 123.41855 186.29246 \r\nL 124.332555 186.29246 \r\nL 125.24656 186.534706 \r\nL 126.160565 187.140321 \r\nL 127.07457 187.261444 \r\nL 127.988575 187.261444 \r\nL 128.90258 187.624813 \r\nL 130.73059 187.867059 \r\nL 131.644595 187.867059 \r\nL 132.5586 187.988182 \r\nL 133.472604 188.472674 \r\nL 134.386609 188.472674 \r\nL 135.300614 189.320535 \r\nL 136.214619 189.441658 \r\nL 137.128624 189.683904 \r\nL 138.956634 190.410642 \r\nL 139.870639 190.410642 \r\nL 140.784644 190.774011 \r\nL 142.612654 191.016257 \r\nL 143.526658 191.258503 \r\nL 144.440663 191.621872 \r\nL 147.182678 191.985241 \r\nL 148.096683 192.227487 \r\nL 149.010688 193.075348 \r\nL 149.924693 193.196471 \r\nL 150.838698 193.438717 \r\nL 151.752703 193.802086 \r\nL 152.666708 194.044332 \r\nL 153.580713 194.407701 \r\nL 154.494717 194.407701 \r\nL 155.408722 194.528824 \r\nL 156.322727 194.77107 \r\nL 157.236732 194.892193 \r\nL 158.150737 194.892193 \r\nL 159.064742 195.013316 \r\nL 160.892752 195.013316 \r\nL 161.806757 195.861176 \r\nL 162.720762 195.861176 \r\nL 163.634767 196.224545 \r\nL 164.548771 196.224545 \r\nL 166.376781 196.466791 \r\nL 168.204791 196.466791 \r\nL 169.118796 197.072406 \r\nL 170.032801 197.193529 \r\nL 170.946806 197.678021 \r\nL 171.860811 197.799144 \r\nL 172.774816 197.799144 \r\nL 173.688821 197.920267 \r\nL 174.602826 198.283636 \r\nL 175.51683 198.404759 \r\nL 176.430835 198.404759 \r\nL 179.17285 198.768128 \r\nL 180.086855 198.768128 \r\nL 181.00086 199.131497 \r\nL 181.914865 199.25262 \r\nL 182.82887 199.494866 \r\nL 183.742875 199.858235 \r\nL 185.570885 200.100481 \r\nL 186.484889 200.584973 \r\nL 187.398894 200.706096 \r\nL 188.312899 200.706096 \r\nL 189.226904 201.069465 \r\nL 190.140909 201.190588 \r\nL 191.054914 201.553957 \r\nL 193.796929 201.917326 \r\nL 194.710934 201.917326 \r\nL 196.538943 202.159572 \r\nL 197.452948 202.159572 \r\nL 198.366953 202.280695 \r\nL 199.280958 202.280695 \r\nL 200.194963 202.522941 \r\nL 202.022973 202.522941 \r\nL 202.936978 202.644064 \r\nL 203.850983 202.644064 \r\nL 204.764988 203.007433 \r\nL 205.678993 203.249679 \r\nL 206.592998 203.370802 \r\nL 207.507002 203.370802 \r\nL 208.421007 203.491925 \r\nL 210.249017 203.491925 \r\nL 211.163022 203.613048 \r\nL 212.077027 203.855294 \r\nL 212.991032 203.976417 \r\nL 213.905037 204.218663 \r\nL 214.819042 204.582032 \r\nL 215.733047 204.582032 \r\nL 216.647052 205.066524 \r\nL 217.561057 205.066524 \r\nL 219.389066 205.30877 \r\nL 220.303071 205.30877 \r\nL 221.217076 205.551016 \r\nL 223.045086 205.793262 \r\nL 223.959091 205.793262 \r\nL 224.873096 205.914385 \r\nL 225.787101 206.156631 \r\nL 227.615111 206.398877 \r\nL 228.529115 206.398877 \r\nL 229.44312 206.641123 \r\nL 230.357125 206.762246 \r\nL 231.27113 206.762246 \r\nL 232.185135 207.004492 \r\nL 234.013145 207.004492 \r\nL 234.92715 207.125615 \r\nL 235.841155 207.125615 \r\nL 236.75516 207.367861 \r\nL 237.669165 207.488984 \r\nL 238.58317 207.488984 \r\nL 239.497174 207.610107 \r\nL 240.411179 207.610107 \r\nL 241.325184 207.73123 \r\nL 242.239189 207.73123 \r\nL 244.981204 208.094599 \r\nL 246.809214 208.579091 \r\nL 247.723219 208.579091 \r\nL 248.637224 208.700214 \r\nL 249.551229 208.700214 \r\nL 250.465233 209.063583 \r\nL 251.379238 209.063583 \r\nL 253.207248 209.305829 \r\nL 257.777273 209.305829 \r\nL 258.691278 209.426952 \r\nL 259.605283 209.426952 \r\nL 260.519287 209.548075 \r\nL 262.347297 209.548075 \r\nL 264.175307 209.790321 \r\nL 268.745332 209.790321 \r\nL 269.659337 209.911444 \r\nL 270.573342 210.15369 \r\nL 272.401351 210.395936 \r\nL 274.229361 210.395936 \r\nL 275.143366 210.517059 \r\nL 277.885381 210.517059 \r\nL 279.713391 210.759305 \r\nL 280.627396 210.759305 \r\nL 281.5414 210.880428 \r\nL 282.455405 210.880428 \r\nL 283.36941 211.001551 \r\nL 284.283415 211.001551 \r\nL 286.111425 211.243797 \r\nL 288.85344 211.243797 \r\nL 289.767445 211.36492 \r\nL 292.509459 211.36492 \r\nL 293.423464 211.486043 \r\nL 294.337469 211.728289 \r\nL 295.251474 211.849412 \r\nL 296.165479 211.849412 \r\nL 297.079484 211.970535 \r\nL 297.993489 211.970535 \r\nL 298.907494 212.091658 \r\nL 301.649509 212.091658 \r\nL 302.563514 212.212781 \r\nL 303.477518 212.212781 \r\nL 304.391523 212.333904 \r\nL 305.305528 212.333904 \r\nL 306.219533 212.57615 \r\nL 308.047543 212.818396 \r\nL 309.875553 212.818396 \r\nL 310.789558 212.939519 \r\nL 312.617568 212.939519 \r\nL 313.531572 213.060642 \r\nL 318.101597 213.060642 \r\nL 319.929607 213.302888 \r\nL 320.843612 213.302888 \r\nL 321.757617 213.424011 \r\nL 327.241646 213.424011 \r\nL 329.069656 213.666257 \r\nL 329.983661 213.666257 \r\nL 330.897666 213.78738 \r\nL 332.725676 213.78738 \r\nL 333.639681 213.908503 \r\nL 335.46769 213.908503 \r\nL 336.381695 214.029626 \r\nL 337.2957 214.029626 \r\nL 339.12371 214.271872 \r\nL 341.865725 214.271872 \r\nL 342.77973 214.514118 \r\nL 348.263759 214.514118 \r\nL 349.177764 214.635241 \r\nL 352.833784 214.635241 \r\nL 353.747789 214.756364 \r\nL 359.231818 214.756364 \r\nL 359.231818 214.756364 \r\n\" style=\"fill:none;stroke:#1f77b4;stroke-linecap:square;stroke-width:1.5;\"/>\r\n   </g>\r\n   <g id=\"patch_3\">\r\n    <path d=\"M 39.65 224.64 \r\nL 39.65 7.2 \r\n\" style=\"fill:none;stroke:#000000;stroke-linecap:square;stroke-linejoin:miter;stroke-width:0.8;\"/>\r\n   </g>\r\n   <g id=\"patch_4\">\r\n    <path d=\"M 374.45 224.64 \r\nL 374.45 7.2 \r\n\" style=\"fill:none;stroke:#000000;stroke-linecap:square;stroke-linejoin:miter;stroke-width:0.8;\"/>\r\n   </g>\r\n   <g id=\"patch_5\">\r\n    <path d=\"M 39.65 224.64 \r\nL 374.45 224.64 \r\n\" style=\"fill:none;stroke:#000000;stroke-linecap:square;stroke-linejoin:miter;stroke-width:0.8;\"/>\r\n   </g>\r\n   <g id=\"patch_6\">\r\n    <path d=\"M 39.65 7.2 \r\nL 374.45 7.2 \r\n\" style=\"fill:none;stroke:#000000;stroke-linecap:square;stroke-linejoin:miter;stroke-width:0.8;\"/>\r\n   </g>\r\n  </g>\r\n </g>\r\n <defs>\r\n  <clipPath id=\"p070c9238e8\">\r\n   <rect height=\"217.44\" width=\"334.8\" x=\"39.65\" y=\"7.2\"/>\r\n  </clipPath>\r\n </defs>\r\n</svg>\r\n",
      "image/png": "[encoded data removed]"
     },
     "metadata": {
      "needs_background": "light"
     }
    }
   ],
   "source": [
    "#checking the distribution of values within S/A\n",
    "import matplotlib.pyplot as plt\n",
    "df['S/A'].value_counts().plot()"
   ]
  },
  {
   "cell_type": "code",
   "execution_count": 125,
   "metadata": {},
   "outputs": [
    {
     "output_type": "execute_result",
     "data": {
      "text/plain": [
       "Downtown VW          1633\n",
       "Brighouse            1345\n",
       "Kitsilano            1271\n",
       "Metrotown            1268\n",
       "Yaletown             1190\n",
       "                     ... \n",
       "Ivey Lake Estates       1\n",
       "Squamish Rural          1\n",
       "Function Junction       1\n",
       "Westham Island          1\n",
       "Spruce Grove            1\n",
       "Name: S/A, Length: 333, dtype: int64"
      ]
     },
     "metadata": {},
     "execution_count": 125
    }
   ],
   "source": [
    "df['S/A'].value_counts()"
   ]
  },
  {
   "cell_type": "code",
   "execution_count": 38,
   "metadata": {},
   "outputs": [],
   "source": [
    "#cleaning up Prop Type\n",
    "def transform_prop(x):\n",
    "  if x == 'Residential Attached':\n",
    "    return x\n",
    "  elif x == 'Residential Detached':\n",
    "    return x \n",
    "  else: \n",
    "    return 'other'\n",
    "\n",
    "df['Prop Type'] =  df['Prop Type'].apply(lambda x: transform_prop(x) )"
   ]
  },
  {
   "cell_type": "code",
   "execution_count": 72,
   "metadata": {},
   "outputs": [
    {
     "output_type": "execute_result",
     "data": {
      "text/plain": [
       "Residential Attached    38715\n",
       "Residential Detached    22267\n",
       "Name: Prop Type, dtype: int64"
      ]
     },
     "metadata": {},
     "execution_count": 72
    }
   ],
   "source": [
    "df['Prop Type'].value_counts()"
   ]
  },
  {
   "cell_type": "code",
   "execution_count": 28,
   "metadata": {},
   "outputs": [],
   "source": [
    "# dropping Status column\n",
    "df = df.drop('Status', axis=1)"
   ]
  },
  {
   "cell_type": "code",
   "execution_count": 34,
   "metadata": {},
   "outputs": [],
   "source": [
    "# cleaning up type of dwelling\n",
    "def transform_type(x):\n",
    "  if x == 'HOUSE':\n",
    "    return x\n",
    "  elif x == 'APTU':\n",
    "    return x \n",
    "  elif x == 'TWNHS':\n",
    "    return x \n",
    "  else:\n",
    "    return 'OTHER'"
   ]
  },
  {
   "cell_type": "code",
   "execution_count": 35,
   "metadata": {},
   "outputs": [],
   "source": [
    "df['TypeDwel'] =  df['TypeDwel'].apply(lambda x: transform_type(x) )\n"
   ]
  },
  {
   "cell_type": "code",
   "execution_count": 37,
   "metadata": {},
   "outputs": [
    {
     "output_type": "execute_result",
     "data": {
      "text/plain": [
       "APTU     27101\n",
       "HOUSE    21418\n",
       "TWNHS    10026\n",
       "OTHER     3473\n",
       "Name: TypeDwel, dtype: int64"
      ]
     },
     "metadata": {},
     "execution_count": 37
    }
   ],
   "source": [
    "df['TypeDwel'].value_counts()"
   ]
  },
  {
   "cell_type": "code",
   "execution_count": 42,
   "metadata": {},
   "outputs": [
    {
     "output_type": "execute_result",
     "data": {
      "text/plain": [
       "Vancouver West         11056\n",
       "Richmond                7354\n",
       "Vancouver East          7217\n",
       "North Vancouver         5174\n",
       "Coquitlam               5132\n",
       "Maple Ridge             3777\n",
       "Burnaby North           3281\n",
       "Burnaby South           3252\n",
       "New Westminster         2504\n",
       "Port Coquitlam          1976\n",
       "West Vancouver          1872\n",
       "Sunshine Coast          1630\n",
       "Port Moody              1499\n",
       "Squamish                1222\n",
       "Tsawwassen              1160\n",
       "Whistler                1012\n",
       "Ladner                   846\n",
       "Burnaby East             739\n",
       "Pitt Meadows             660\n",
       "Pemberton                276\n",
       "Islands-Van. & Gulf      178\n",
       "Bowen Island             165\n",
       "Out of Town               33\n",
       "VAN Fake Area              3\n",
       "Name: Area, dtype: int64"
      ]
     },
     "metadata": {},
     "execution_count": 42
    }
   ],
   "source": [
    "# checking to see number of values within Area\n",
    "df['Area'].value_counts()"
   ]
  },
  {
   "cell_type": "code",
   "execution_count": 120,
   "metadata": {},
   "outputs": [
    {
     "output_type": "execute_result",
     "data": {
      "text/plain": [
       "CD-1      4580\n",
       "RS-1      3948\n",
       "CD        3487\n",
       "RS1       2701\n",
       "RES       2105\n",
       "          ... \n",
       "CD 149       1\n",
       "ZUM5         1\n",
       "CD251        1\n",
       "RM-45        1\n",
       "RE1/B        1\n",
       "Name: Zoning, Length: 2235, dtype: int64"
      ]
     },
     "metadata": {},
     "execution_count": 120
    }
   ],
   "source": [
    "# figure out what to do with zoning \n",
    "df.Zoning.value_counts()"
   ]
  },
  {
   "cell_type": "code",
   "execution_count": 155,
   "metadata": {},
   "outputs": [
    {
     "output_type": "execute_result",
     "data": {
      "text/plain": [
       "['FCCDD',\n",
       " 'C',\n",
       " 'M',\n",
       " 'RS',\n",
       " 'RT',\n",
       " 'RM',\n",
       " 'RA',\n",
       " 'I',\n",
       " 'MC',\n",
       " 'HA',\n",
       " 'DD',\n",
       " 'BCPED',\n",
       " 'IC',\n",
       " 'FC',\n",
       " 'DEOD',\n",
       " 'FSHCA',\n",
       " 'FM',\n",
       " 'CWD']"
      ]
     },
     "metadata": {},
     "execution_count": 155
    }
   ],
   "source": [
    "zone_list"
   ]
  },
  {
   "cell_type": "code",
   "execution_count": 154,
   "metadata": {},
   "outputs": [],
   "source": [
    "# Removing CD from zone_list\n",
    "zone_list.remove('CD')"
   ]
  },
  {
   "cell_type": "code",
   "execution_count": 172,
   "metadata": {},
   "outputs": [],
   "source": [
    "# function that cleans up zoning column in the dataset\n",
    "def change_zone_code(x):\n",
    "    if 'CD' in x:\n",
    "        return 'CD'\n",
    "    elif 'MC' in x:\n",
    "        return 'MC'\n",
    "    elif 'C' in x:\n",
    "        return 'C'\n",
    "    elif 'M' in x:\n",
    "        return 'M'\n",
    "    elif 'RS' in x:\n",
    "        return 'RS'\n",
    "    elif 'RT' in x:\n",
    "        return 'RT'\n",
    "    elif 'RM' in x:\n",
    "        return 'RM'\n",
    "    elif 'RA' in x:\n",
    "        return 'RA'\n",
    "    elif 'I' in x:\n",
    "        return 'I'\n",
    "    elif 'HA' in x:\n",
    "        return 'HA'\n",
    "    elif 'DD' in x:\n",
    "        return 'DD'\n",
    "    elif 'BCPED' in x:\n",
    "        return 'BCPED'\n",
    "    elif 'IC' in x:\n",
    "        return 'IC'\n",
    "    elif 'FC' in x:\n",
    "        return 'FC'\n",
    "    elif 'DEOD' in x:\n",
    "        return 'DEOD'\n",
    "    elif 'DEOD' in x:\n",
    "        return 'DEOD'\n",
    "    elif 'FSHCA' in x:\n",
    "        return 'FSHCA'\n",
    "    elif 'FM' in x:\n",
    "        return 'FM'\n",
    "    elif 'CWD' in x:\n",
    "        return 'CWD'\n",
    "    else:\n",
    "        return 'other'\n",
    "\n",
    "df['Zoning changed'] = df['Zoning'].apply(lambda x: change_zone_code(str(x)))"
   ]
  },
  {
   "cell_type": "code",
   "execution_count": 174,
   "metadata": {},
   "outputs": [
    {
     "output_type": "execute_result",
     "data": {
      "text/plain": [
       "RS       13265\n",
       "other    13252\n",
       "CD       12123\n",
       "M        11891\n",
       "C         3870\n",
       "RT        3158\n",
       "RA        2049\n",
       "DD         927\n",
       "HA         227\n",
       "I          157\n",
       "MC          53\n",
       "DEOD        10\n",
       "Name: Zoning changed, dtype: int64"
      ]
     },
     "metadata": {},
     "execution_count": 174
    }
   ],
   "source": [
    "df['Zoning changed'].value_counts()"
   ]
  },
  {
   "cell_type": "code",
   "execution_count": 163,
   "metadata": {},
   "outputs": [],
   "source": [
    "test_list = (df['Zoning'].unique()[:100])"
   ]
  },
  {
   "cell_type": "code",
   "execution_count": 166,
   "metadata": {},
   "outputs": [
    {
     "output_type": "execute_result",
     "data": {
      "text/plain": [
       "False    48700\n",
       "True     12123\n",
       "Name: Zoning, dtype: int64"
      ]
     },
     "metadata": {},
     "execution_count": 166
    }
   ],
   "source": [
    "df.Zoning.str.contains('CD').value_counts()"
   ]
  },
  {
   "cell_type": "code",
   "execution_count": 145,
   "metadata": {},
   "outputs": [
    {
     "output_type": "execute_result",
     "data": {
      "text/plain": [
       "CD       747\n",
       "RM       177\n",
       "C        177\n",
       "RT       123\n",
       "RS       101\n",
       "I         30\n",
       "M         29\n",
       "IC         9\n",
       "BCPED      7\n",
       "DD         6\n",
       "HA         5\n",
       "MC         5\n",
       "FC         3\n",
       "FCCDD      3\n",
       "RA         2\n",
       "FSHCA      1\n",
       "FM         1\n",
       "CWD        1\n",
       "DEOD       1\n",
       "Name: Zoning Category, dtype: int64"
      ]
     },
     "metadata": {},
     "execution_count": 145
    }
   ],
   "source": [
    "# reading zoning labels from City of Vancouver dataset\n",
    "zoning = pd.read_csv('zoning-districts-and-labels.csv', delimiter=';')\n",
    "zoning.head()\n",
    "zoning['Zoning Category'].value_counts()"
   ]
  },
  {
   "cell_type": "code",
   "execution_count": 144,
   "metadata": {},
   "outputs": [
    {
     "output_type": "execute_result",
     "data": {
      "text/plain": [
       "                                                Geom  Object ID  \\\n",
       "0  {\"type\": \"Polygon\", \"coordinates\": [[[-123.132...      20027   \n",
       "1  {\"type\": \"Polygon\", \"coordinates\": [[[-123.124...      20030   \n",
       "2  {\"type\": \"Polygon\", \"coordinates\": [[[-123.115...      20033   \n",
       "3  {\"type\": \"Polygon\", \"coordinates\": [[[-123.062...      20034   \n",
       "4  {\"type\": \"Polygon\", \"coordinates\": [[[-123.134...      20038   \n",
       "\n",
       "       Zoning Classification Zoning Category Zoning District CD-1 Number  \\\n",
       "0  Comprehensive Development           FCCDD           FCCDD         NaN   \n",
       "1  Comprehensive Development              CD      CD-1 (546)         546   \n",
       "2  Comprehensive Development              CD      CD-1 (555)         555   \n",
       "3  Comprehensive Development              CD      CD-1 (556)         556   \n",
       "4                 Commercial               C            C-5A         NaN   \n",
       "\n",
       "                   geo_point_2d  \n",
       "0  49.2763074687,-123.132361868  \n",
       "1  49.2799694579,-123.123419502  \n",
       "2  49.2856413694,-123.115879352  \n",
       "3  49.2428535279,-123.061590121  \n",
       "4  49.2904798478,-123.133776581  "
      ],
      "text/html": "<div>\n<style scoped>\n    .dataframe tbody tr th:only-of-type {\n        vertical-align: middle;\n    }\n\n    .dataframe tbody tr th {\n        vertical-align: top;\n    }\n\n    .dataframe thead th {\n        text-align: right;\n    }\n</style>\n<table border=\"1\" class=\"dataframe\">\n  <thead>\n    <tr style=\"text-align: right;\">\n      <th></th>\n      <th>Geom</th>\n      <th>Object ID</th>\n      <th>Zoning Classification</th>\n      <th>Zoning Category</th>\n      <th>Zoning District</th>\n      <th>CD-1 Number</th>\n      <th>geo_point_2d</th>\n    </tr>\n  </thead>\n  <tbody>\n    <tr>\n      <th>0</th>\n      <td>{\"type\": \"Polygon\", \"coordinates\": [[[-123.132...</td>\n      <td>20027</td>\n      <td>Comprehensive Development</td>\n      <td>FCCDD</td>\n      <td>FCCDD</td>\n      <td>NaN</td>\n      <td>49.2763074687,-123.132361868</td>\n    </tr>\n    <tr>\n      <th>1</th>\n      <td>{\"type\": \"Polygon\", \"coordinates\": [[[-123.124...</td>\n      <td>20030</td>\n      <td>Comprehensive Development</td>\n      <td>CD</td>\n      <td>CD-1 (546)</td>\n      <td>546</td>\n      <td>49.2799694579,-123.123419502</td>\n    </tr>\n    <tr>\n      <th>2</th>\n      <td>{\"type\": \"Polygon\", \"coordinates\": [[[-123.115...</td>\n      <td>20033</td>\n      <td>Comprehensive Development</td>\n      <td>CD</td>\n      <td>CD-1 (555)</td>\n      <td>555</td>\n      <td>49.2856413694,-123.115879352</td>\n    </tr>\n    <tr>\n      <th>3</th>\n      <td>{\"type\": \"Polygon\", \"coordinates\": [[[-123.062...</td>\n      <td>20034</td>\n      <td>Comprehensive Development</td>\n      <td>CD</td>\n      <td>CD-1 (556)</td>\n      <td>556</td>\n      <td>49.2428535279,-123.061590121</td>\n    </tr>\n    <tr>\n      <th>4</th>\n      <td>{\"type\": \"Polygon\", \"coordinates\": [[[-123.134...</td>\n      <td>20038</td>\n      <td>Commercial</td>\n      <td>C</td>\n      <td>C-5A</td>\n      <td>NaN</td>\n      <td>49.2904798478,-123.133776581</td>\n    </tr>\n  </tbody>\n</table>\n</div>"
     },
     "metadata": {},
     "execution_count": 144
    }
   ],
   "source": [
    "zoning.head()"
   ]
  },
  {
   "cell_type": "code",
   "execution_count": 146,
   "metadata": {},
   "outputs": [],
   "source": [
    "zone = zoning[['Zoning Classification', 'Zoning Category']]"
   ]
  },
  {
   "cell_type": "code",
   "execution_count": 148,
   "metadata": {},
   "outputs": [
    {
     "output_type": "execute_result",
     "data": {
      "text/plain": [
       "Comprehensive Development    765\n",
       "Commercial                   180\n",
       "Multiple Dwelling            178\n",
       "Two-Family Dwelling          123\n",
       "One-Family Dwelling          101\n",
       "Industrial                    73\n",
       "Historical Area                5\n",
       "Limited Agriculture            2\n",
       "Other                          1\n",
       "Name: Zoning Classification, dtype: int64"
      ]
     },
     "metadata": {},
     "execution_count": 148
    }
   ],
   "source": [
    "zone['Zoning Classification'].value_counts()"
   ]
  },
  {
   "cell_type": "code",
   "execution_count": 152,
   "metadata": {},
   "outputs": [],
   "source": [
    "zone_list = list(zone['Zoning Category'].unique())"
   ]
  },
  {
   "cell_type": "code",
   "execution_count": 47,
   "metadata": {},
   "outputs": [],
   "source": [
    "# cleaning up type \n",
    "def transform_house_type(x):\n",
    "    if x == 'Apartment/Condo':\n",
    "        return x\n",
    "    elif  x == 'House/Single Family':\n",
    "        return x\n",
    "    elif x == 'Townhouse':\n",
    "        return x \n",
    "    else:\n",
    "        return 'other'\n",
    "    \n",
    "df['Type'] = df['Type'].apply(lambda x: transform_house_type(x))"
   ]
  },
  {
   "cell_type": "code",
   "execution_count": 48,
   "metadata": {},
   "outputs": [
    {
     "output_type": "execute_result",
     "data": {
      "text/plain": [
       "Apartment/Condo        27101\n",
       "House/Single Family    21418\n",
       "Townhouse              10026\n",
       "other                   3473\n",
       "Name: Type, dtype: int64"
      ]
     },
     "metadata": {},
     "execution_count": 48
    }
   ],
   "source": [
    "df['Type'].value_counts()"
   ]
  },
  {
   "cell_type": "code",
   "execution_count": 50,
   "metadata": {},
   "outputs": [],
   "source": [
    "# dropping class (it's a replicate of Prop Type)\n",
    "df = df.drop('Class', axis=1)"
   ]
  },
  {
   "cell_type": "code",
   "execution_count": 52,
   "metadata": {},
   "outputs": [],
   "source": [
    "# transforming list date into datetime object\n",
    "df['List Date'] = pd.to_datetime(df['List Date'])"
   ]
  },
  {
   "cell_type": "code",
   "execution_count": 56,
   "metadata": {},
   "outputs": [
    {
     "output_type": "execute_result",
     "data": {
      "text/plain": [
       "No     32094\n",
       "Yes    29924\n",
       "Name: View, dtype: int64"
      ]
     },
     "metadata": {},
     "execution_count": 56
    }
   ],
   "source": [
    "# filling missing values in View with No \n",
    "df['View'] = df['View'].fillna('No')\n",
    "df['View'].value_counts()"
   ]
  },
  {
   "cell_type": "code",
   "execution_count": 61,
   "metadata": {},
   "outputs": [],
   "source": [
    "# drop VOW Comment ( since it is filled with  NO)\n",
    "df = df.drop('VOW Comment', axis=1)"
   ]
  },
  {
   "cell_type": "code",
   "execution_count": 70,
   "metadata": {},
   "outputs": [],
   "source": [
    "# dropping all 'other' frame in Prop Type since they have too many missing values for all columns \n",
    "df = df[df['Prop Type'] != 'other']"
   ]
  },
  {
   "cell_type": "code",
   "execution_count": 73,
   "metadata": {},
   "outputs": [],
   "source": [
    "# dropping a bunch of columns due to too many missing values \n",
    "df = df.drop(['Agent Hit Count', 'Approx.Yr of Renos/Addns', 'Fire Sprinkler System', 'Flood Plain','Neighborhood Code','Protected Owner Name','Internet Remarks' ], axis = 1)"
   ]
  },
  {
   "cell_type": "code",
   "execution_count": 129,
   "metadata": {},
   "outputs": [
    {
     "output_type": "execute_result",
     "data": {
      "text/plain": [
       "Prop Type                                0\n",
       "S/A                                      0\n",
       "Price                                    0\n",
       "Yr Blt                                   1\n",
       "TypeDwel                                 0\n",
       "# of Kitchens                            0\n",
       "# Rms                                    0\n",
       "Age                                      1\n",
       "Floor Area -Grand Total                  0\n",
       "Area                                     0\n",
       "Zoning                                 159\n",
       "Type                                     0\n",
       "Total Bedrooms                           0\n",
       "Total Baths                              0\n",
       "Days On Market                           0\n",
       "List Date                                0\n",
       "Lot Sz (Sq.Ft.)                        399\n",
       "View                                     0\n",
       "Fireplaces                              32\n",
       "List Price                               0\n",
       "Public Remarks                         223\n",
       "Realtor Remarks                        860\n",
       "Sold Price per SqFt                  10104\n",
       "Parking Places - Total                   0\n",
       "Gross Taxes                              0\n",
       "Dist to School/School Bus            33568\n",
       "Distance to Pub/Rapid Tr             27868\n",
       "Owner Name                               0\n",
       "No. Floor Levels                         0\n",
       "Dist to School/School Bus changed        0\n",
       "dtype: int64"
      ]
     },
     "metadata": {},
     "execution_count": 129
    }
   ],
   "source": [
    "df.isna().sum()\n"
   ]
  },
  {
   "cell_type": "code",
   "execution_count": 77,
   "metadata": {},
   "outputs": [
    {
     "output_type": "execute_result",
     "data": {
      "text/plain": [
       "Y    60549\n",
       "N      433\n",
       "Name: Broker Reciprocity, dtype: int64"
      ]
     },
     "metadata": {},
     "execution_count": 77
    }
   ],
   "source": [
    "# please skip past the next two blocks since the dataset has been cleared of these two fields in the secured version\n",
    "df['Broker Reciprocity'].value_counts()"
   ]
  },
  {
   "cell_type": "code",
   "execution_count": 78,
   "metadata": {},
   "outputs": [],
   "source": [
    "# dropping Broker Reciprocity since it is overwhelmmingly yes \n",
    "df = df.drop('Broker Reciprocity', axis=1)"
   ]
  },
  {
   "cell_type": "code",
   "execution_count": 84,
   "metadata": {},
   "outputs": [],
   "source": [
    "# dropping commission since they are pretty much the same thing\n",
    "df = df.drop('Commission', axis=1)"
   ]
  },
  {
   "cell_type": "code",
   "execution_count": 86,
   "metadata": {},
   "outputs": [
    {
     "output_type": "execute_result",
     "data": {
      "text/plain": [
       "Attached    38715\n",
       "Detached    22267\n",
       "Name: Dwelling Classification, dtype: int64"
      ]
     },
     "metadata": {},
     "execution_count": 86
    }
   ],
   "source": [
    "df['Dwelling Classification'].value_counts()"
   ]
  },
  {
   "cell_type": "code",
   "execution_count": 87,
   "metadata": {},
   "outputs": [],
   "source": [
    "# dropping dwelling classification(duplicate values)\n",
    "\n",
    "df = df.drop(['Dwelling Classification'], axis=1)"
   ]
  },
  {
   "cell_type": "code",
   "execution_count": 89,
   "metadata": {},
   "outputs": [
    {
     "output_type": "execute_result",
     "data": {
      "text/plain": [
       "1.0     27045\n",
       "0.0     22844\n",
       "2.0      8983\n",
       "3.0      1576\n",
       "4.0       380\n",
       "5.0        79\n",
       "6.0        21\n",
       "7.0        12\n",
       "11.0        4\n",
       "12.0        2\n",
       "8.0         1\n",
       "9.0         1\n",
       "20.0        1\n",
       "10.0        1\n",
       "Name: Fireplaces, dtype: int64"
      ]
     },
     "metadata": {},
     "execution_count": 89
    }
   ],
   "source": [
    "df['Fireplaces'].value_counts()"
   ]
  },
  {
   "cell_type": "code",
   "execution_count": 94,
   "metadata": {},
   "outputs": [
    {
     "output_type": "stream",
     "name": "stderr",
     "text": [
      "<ipython-input-94-50e54cfa3c11>:3: FutureWarning: The default value of regex will change from True to False in a future version. In addition, single character regular expressions will*not* be treated as literal strings when regex=True.\n  df['List Price'] = df['List Price'].str.replace('$', '')\n"
     ]
    }
   ],
   "source": [
    "# changing list price to int\n",
    "df['List Price'] = df['List Price'].str.replace(',', '')\n",
    "df['List Price'] = df['List Price'].str.replace('$', '')\n",
    "df['List Price'] = df['List Price'].astype(int)"
   ]
  },
  {
   "cell_type": "code",
   "execution_count": 101,
   "metadata": {},
   "outputs": [],
   "source": [
    "# dropping sold price since it duplicates price \n",
    "#df = df.drop('Sold Price', axis=1)"
   ]
  },
  {
   "cell_type": "code",
   "execution_count": 104,
   "metadata": {},
   "outputs": [],
   "source": [
    "#filling parking places \n",
    "df['Parking Places - Total'] = df['Parking Places - Total'].fillna(0)"
   ]
  },
  {
   "cell_type": "code",
   "execution_count": 103,
   "metadata": {},
   "outputs": [
    {
     "output_type": "execute_result",
     "data": {
      "text/plain": [
       "1.0     24382\n",
       "2.0     15196\n",
       "4.0      6476\n",
       "3.0      3534\n",
       "6.0      2750\n",
       "5.0      1519\n",
       "0.0       631\n",
       "8.0       612\n",
       "10.0      338\n",
       "7.0       323\n",
       "9.0        95\n",
       "12.0       67\n",
       "20.0       38\n",
       "11.0       14\n",
       "15.0       14\n",
       "16.0        9\n",
       "30.0        8\n",
       "14.0        5\n",
       "13.0        5\n",
       "40.0        4\n",
       "25.0        2\n",
       "32.0        2\n",
       "97.0        1\n",
       "36.0        1\n",
       "23.0        1\n",
       "98.0        1\n",
       "18.0        1\n",
       "50.0        1\n",
       "22.0        1\n",
       "60.0        1\n",
       "28.0        1\n",
       "31.0        1\n",
       "Name: Parking Places - Total, dtype: int64"
      ]
     },
     "metadata": {},
     "execution_count": 103
    }
   ],
   "source": [
    "df['Parking Places - Total'].value_counts()"
   ]
  },
  {
   "cell_type": "code",
   "execution_count": 108,
   "metadata": {},
   "outputs": [
    {
     "output_type": "stream",
     "name": "stderr",
     "text": [
      "<ipython-input-108-aec40a6463d4>:3: FutureWarning: The default value of regex will change from True to False in a future version. In addition, single character regular expressions will*not* be treated as literal strings when regex=True.\n  df['Gross Taxes'] = df['Gross Taxes'].str.replace('$', '')\n"
     ]
    }
   ],
   "source": [
    "# changing gross taxes to float\n",
    "df['Gross Taxes'] = df['Gross Taxes'].str.replace(',', '')\n",
    "df['Gross Taxes'] = df['Gross Taxes'].str.replace('$', '')\n",
    "df['Gross Taxes'] = df['Gross Taxes'].astype(float)"
   ]
  },
  {
   "cell_type": "code",
   "execution_count": 110,
   "metadata": {},
   "outputs": [
    {
     "output_type": "execute_result",
     "data": {
      "text/plain": [
       "count    6.094900e+04\n",
       "mean     3.857471e+03\n",
       "std      8.543548e+03\n",
       "min      0.000000e+00\n",
       "25%      1.822170e+03\n",
       "50%      2.856400e+03\n",
       "75%      4.775000e+03\n",
       "max      1.035275e+06\n",
       "Name: Gross Taxes, dtype: float64"
      ]
     },
     "metadata": {},
     "execution_count": 110
    }
   ],
   "source": [
    "df['Gross Taxes'].describe()"
   ]
  },
  {
   "cell_type": "code",
   "execution_count": 112,
   "metadata": {},
   "outputs": [],
   "source": [
    "df['Gross Taxes'] = df['Gross Taxes'].fillna(df['Gross Taxes'].mean())"
   ]
  },
  {
   "cell_type": "code",
   "execution_count": 115,
   "metadata": {},
   "outputs": [],
   "source": [
    "# filling in owner name\n",
    "df['Owner Name'] = df['Owner Name'].fillna('Unknown')"
   ]
  },
  {
   "cell_type": "code",
   "execution_count": 135,
   "metadata": {},
   "outputs": [],
   "source": [
    "# fill dist to school nan with not close\n",
    "df['Dist to School/School Bus'] = df['Dist to School/School Bus'].fillna('Not Close')"
   ]
  },
  {
   "cell_type": "code",
   "execution_count": 137,
   "metadata": {},
   "outputs": [],
   "source": [
    "# figure out what to do with distance to school/public transport\n",
    "\n",
    "def transform_school_dist(x):\n",
    "    if x == 'Not Close':\n",
    "       \n",
    "        return 'Not Close'\n",
    "         \n",
    "    else:\n",
    "        return 'Close'\n",
    "\n",
    "df['Dist to School/School Bus changed'] = df['Dist to School/School Bus'].apply(lambda x: transform_school_dist(x))"
   ]
  },
  {
   "cell_type": "code",
   "execution_count": 138,
   "metadata": {},
   "outputs": [
    {
     "output_type": "execute_result",
     "data": {
      "text/plain": [
       "Not Close    33568\n",
       "Close        27414\n",
       "Name: Dist to School/School Bus changed, dtype: int64"
      ]
     },
     "metadata": {},
     "execution_count": 138
    }
   ],
   "source": [
    "df['Dist to School/School Bus changed'].value_counts()"
   ]
  },
  {
   "cell_type": "code",
   "execution_count": 139,
   "metadata": {},
   "outputs": [],
   "source": [
    "# apply the same function for school distance to public transport distance \n",
    "df['Distance to Pub/Rapid Tr'] = df['Distance to Pub/Rapid Tr'].fillna('Not Close')\n",
    "df['Distance to Pub/Rapid Tr changed'] = df['Distance to Pub/Rapid Tr'].apply(lambda x: transform_school_dist(x))"
   ]
  },
  {
   "cell_type": "code",
   "execution_count": 140,
   "metadata": {},
   "outputs": [
    {
     "output_type": "execute_result",
     "data": {
      "text/plain": [
       "Close        33114\n",
       "Not Close    27868\n",
       "Name: Distance to Pub/Rapid Tr changed, dtype: int64"
      ]
     },
     "metadata": {},
     "execution_count": 140
    }
   ],
   "source": [
    "df['Distance to Pub/Rapid Tr changed'].value_counts()"
   ]
  },
  {
   "cell_type": "code",
   "execution_count": 141,
   "metadata": {},
   "outputs": [],
   "source": [
    "df = df.drop(['Distance to Pub/Rapid Tr', 'Dist to School/School Bus'], axis=1)"
   ]
  },
  {
   "cell_type": "code",
   "execution_count": 143,
   "metadata": {},
   "outputs": [
    {
     "output_type": "execute_result",
     "data": {
      "text/plain": [
       "Vancouver West         11013\n",
       "Richmond                7291\n",
       "Vancouver East          7162\n",
       "North Vancouver         5133\n",
       "Coquitlam               5067\n",
       "Maple Ridge             3639\n",
       "Burnaby North           3243\n",
       "Burnaby South           3226\n",
       "New Westminster         2478\n",
       "Port Coquitlam          1952\n",
       "West Vancouver          1830\n",
       "Sunshine Coast          1475\n",
       "Port Moody              1463\n",
       "Tsawwassen              1150\n",
       "Squamish                1141\n",
       "Whistler                 964\n",
       "Ladner                   834\n",
       "Burnaby East             731\n",
       "Pitt Meadows             653\n",
       "Pemberton                234\n",
       "Bowen Island             136\n",
       "Islands-Van. & Gulf      133\n",
       "Out of Town               31\n",
       "VAN Fake Area              3\n",
       "Name: Area, dtype: int64"
      ]
     },
     "metadata": {},
     "execution_count": 143
    }
   ],
   "source": [
    "df['Area'].value_counts()"
   ]
  },
  {
   "cell_type": "code",
   "execution_count": 208,
   "metadata": {},
   "outputs": [
    {
     "output_type": "execute_result",
     "data": {
      "text/plain": [
       "Prop Type                                       object\n",
       "S/A                                             object\n",
       "Price                                            int32\n",
       "Yr Blt                                         float64\n",
       "TypeDwel                                        object\n",
       "# of Kitchens                                  float64\n",
       "# Rms                                          float64\n",
       "Age                                            float64\n",
       "Floor Area -Grand Total                        float64\n",
       "Area                                            object\n",
       "Zoning                                          object\n",
       "Type                                            object\n",
       "Total Bedrooms                                 float64\n",
       "Total Baths                                    float64\n",
       "Days On Market                                   int64\n",
       "List Date                               datetime64[ns]\n",
       "Lot Sz (Sq.Ft.)                                float64\n",
       "View                                            object\n",
       "Fireplaces                                     float64\n",
       "List Price                                       int32\n",
       "Public Remarks                                  object\n",
       "Realtor Remarks                                 object\n",
       "Sold Price per SqFt                             object\n",
       "Parking Places - Total                         float64\n",
       "Gross Taxes                                    float64\n",
       "Owner Name                                      object\n",
       "No. Floor Levels                               float64\n",
       "Dist to School/School Bus changed               object\n",
       "Distance to Pub/Rapid Tr changed                object\n",
       "Zoning changed                                  object\n",
       "Realtor remarks sentiment                       object\n",
       "Realtor remarks sentiment classified            object\n",
       "dtype: object"
      ]
     },
     "metadata": {},
     "execution_count": 208
    }
   ],
   "source": [
    "df.dtypes"
   ]
  },
  {
   "cell_type": "code",
   "execution_count": 183,
   "metadata": {},
   "outputs": [
    {
     "output_type": "execute_result",
     "data": {
      "text/plain": [
       "'Please include the attached team disclosure with all offers. Total sq ft from strata plan, interior from Realtor, buyer to verify if important. One dog and one cat or two cats. Dog cannot exceed 18 at the shoulder.'"
      ]
     },
     "metadata": {},
     "execution_count": 183
    }
   ],
   "source": [
    "# checking out what kind of realtor remarks there are \n",
    "df['Realtor Remarks'][20]"
   ]
  },
  {
   "cell_type": "code",
   "execution_count": 185,
   "metadata": {},
   "outputs": [
    {
     "output_type": "execute_result",
     "data": {
      "text/plain": [
       "'Totally renovated 1-bed in Mount Pleasant just by China Creek North Park, VCC-Clark SkyTrain, Emily Carr, Main Street, and more! New flooring, new lighting, new cabinetry, new countertops, new appliances. Modern open kitchen offers tons of counter space and storage, plus eating area. Massive 185SF balcony offers views of the North Shore mountains and is perfect for gardening, relaxing, or entertaining. Heat and hot water included in strata fee. Fully equipped gym and sauna in the building. Unit comes with parking and locker. Rentals ok and not at max. One dog or one cat.'"
      ]
     },
     "metadata": {},
     "execution_count": 185
    }
   ],
   "source": [
    "# checking out what kind of public remarks there are \n",
    "df['Public Remarks'][10]"
   ]
  },
  {
   "cell_type": "code",
   "execution_count": 191,
   "metadata": {},
   "outputs": [
    {
     "output_type": "stream",
     "name": "stdout",
     "text": [
      "Collecting vaderSentiment\n  Downloading vaderSentiment-3.3.2-py2.py3-none-any.whl (125 kB)\nRequirement already satisfied: requests in c:\\programdata\\anaconda3\\lib\\site-packages (from vaderSentiment) (2.25.1)\nRequirement already satisfied: certifi>=2017.4.17 in c:\\programdata\\anaconda3\\lib\\site-packages (from requests->vaderSentiment) (2020.12.5)\nRequirement already satisfied: chardet<5,>=3.0.2 in c:\\programdata\\anaconda3\\lib\\site-packages (from requests->vaderSentiment) (4.0.0)\nRequirement already satisfied: urllib3<1.27,>=1.21.1 in c:\\programdata\\anaconda3\\lib\\site-packages (from requests->vaderSentiment) (1.26.4)\nRequirement already satisfied: idna<3,>=2.5 in c:\\programdata\\anaconda3\\lib\\site-packages (from requests->vaderSentiment) (2.10)\nInstalling collected packages: vaderSentiment\nSuccessfully installed vaderSentiment-3.3.2\n"
     ]
    }
   ],
   "source": [
    "!pip install vaderSentiment"
   ]
  },
  {
   "cell_type": "code",
   "execution_count": 188,
   "metadata": {},
   "outputs": [],
   "source": [
    "import vader"
   ]
  },
  {
   "cell_type": "code",
   "execution_count": 192,
   "metadata": {},
   "outputs": [],
   "source": [
    "# initiating vader sentiment analyzer for sentiment analysis on realtor and public remarks \n",
    "from vaderSentiment.vaderSentiment import SentimentIntensityAnalyzer\n",
    "analyzer = SentimentIntensityAnalyzer()"
   ]
  },
  {
   "cell_type": "code",
   "execution_count": 194,
   "metadata": {},
   "outputs": [],
   "source": [
    "# please skip next blocks concerning 'realtor remark' since the dataset has been cleared of these two fields in the secured version\n",
    "df['Realtor remarks sentiment'] = df['Realtor Remarks'].apply(lambda x: analyzer.polarity_scores(str(x)))"
   ]
  },
  {
   "cell_type": "code",
   "execution_count": 201,
   "metadata": {},
   "outputs": [
    {
     "output_type": "execute_result",
     "data": {
      "text/plain": [
       "{'neg': 0.0, 'neu': 0.807, 'pos': 0.193, 'compound': 0.8074}"
      ]
     },
     "metadata": {},
     "execution_count": 201
    }
   ],
   "source": [
    "df['Realtor remarks sentiment'][2]"
   ]
  },
  {
   "cell_type": "code",
   "execution_count": 202,
   "metadata": {},
   "outputs": [
    {
     "output_type": "execute_result",
     "data": {
      "text/plain": [
       "'All measurements are approximate only, Buyer to verify if deemed important. Total sqft from strata plan. Vacant unit, easy showings. All Showings must comply with Covid Protocol.  Please sign & email COVIC Access waiver form prior to showing. Please wear masks and gloves.'"
      ]
     },
     "metadata": {},
     "execution_count": 202
    }
   ],
   "source": [
    "df['Realtor Remarks'][2]"
   ]
  },
  {
   "cell_type": "code",
   "execution_count": 205,
   "metadata": {},
   "outputs": [],
   "source": [
    "# turning sentiment results into categorical column\n",
    "def sentiment(x):\n",
    "    if x['compound'] >= 0:\n",
    "        return 'positive'\n",
    "    elif x['compound'] == 0:\n",
    "        return 'neutral'\n",
    "    else:\n",
    "        return 'negative'\n",
    "\n",
    "df['Realtor remarks sentiment classified'] = df['Realtor remarks sentiment'].apply(lambda x: sentiment(x))"
   ]
  },
  {
   "cell_type": "code",
   "execution_count": 207,
   "metadata": {},
   "outputs": [
    {
     "output_type": "execute_result",
     "data": {
      "text/plain": [
       "positive    53948\n",
       "negative     7034\n",
       "Name: Realtor remarks sentiment classified, dtype: int64"
      ]
     },
     "metadata": {},
     "execution_count": 207
    }
   ],
   "source": [
    "df['Realtor remarks sentiment classified'].value_counts()"
   ]
  },
  {
   "cell_type": "code",
   "execution_count": 209,
   "metadata": {},
   "outputs": [],
   "source": [
    "df['Public remarks sentiment'] = df['Public Remarks'].apply(lambda x: analyzer.polarity_scores(str(x)))"
   ]
  },
  {
   "cell_type": "code",
   "execution_count": 210,
   "metadata": {},
   "outputs": [],
   "source": [
    "df['Public remarks sentiment classified'] = df['Public remarks sentiment'].apply(lambda x: sentiment(x))"
   ]
  },
  {
   "cell_type": "code",
   "execution_count": 211,
   "metadata": {},
   "outputs": [
    {
     "output_type": "execute_result",
     "data": {
      "text/plain": [
       "positive    60596\n",
       "negative      386\n",
       "Name: Public remarks sentiment classified, dtype: int64"
      ]
     },
     "metadata": {},
     "execution_count": 211
    }
   ],
   "source": [
    "df['Public remarks sentiment classified'].value_counts()"
   ]
  },
  {
   "cell_type": "code",
   "execution_count": 212,
   "metadata": {},
   "outputs": [
    {
     "output_type": "execute_result",
     "data": {
      "text/plain": [
       "              Prop Type             S/A   Price  Yr Blt TypeDwel  \\\n",
       "0  Residential Attached       Brighouse  438000  2008.0     APTU   \n",
       "1  Residential Attached    West Central  438000  1999.0     APTU   \n",
       "2  Residential Attached  Collingwood VE  438000  1992.0     APTU   \n",
       "3  Residential Attached       Brighouse  438000  1971.0     APTU   \n",
       "4  Residential Attached     West End VW  438000  1984.0     APTU   \n",
       "\n",
       "   # of Kitchens  # Rms   Age  Floor Area -Grand Total            Area  ...  \\\n",
       "0            1.0    5.0  12.0                    559.0        Richmond  ...   \n",
       "1            1.0    7.0  21.0                   1248.0     Maple Ridge  ...   \n",
       "2            1.0    5.0  29.0                    672.0  Vancouver East  ...   \n",
       "3            1.0    5.0  50.0                    804.0        Richmond  ...   \n",
       "4            1.0    5.0  36.0                    552.0  Vancouver West  ...   \n",
       "\n",
       "  Gross Taxes                        Owner Name  No. Floor Levels  \\\n",
       "0     1394.74                     XIAO DAN WANG               1.0   \n",
       "1     2542.73   Michael Zamprogno & Jade Werger               1.0   \n",
       "2     1001.26             **Privacy Protected**               1.0   \n",
       "3     1080.07  Paul Wing Ming Pi, Glara Ming Pi               1.0   \n",
       "4     1399.54             **Privacy Protected**               1.0   \n",
       "\n",
       "   Dist to School/School Bus changed  Distance to Pub/Rapid Tr changed  \\\n",
       "0                              Close                             Close   \n",
       "1                          Not Close                             Close   \n",
       "2                          Not Close                         Not Close   \n",
       "3                              Close                             Close   \n",
       "4                          Not Close                         Not Close   \n",
       "\n",
       "  Zoning changed                          Realtor remarks sentiment  \\\n",
       "0             CD  {'neg': 0.114, 'neu': 0.823, 'pos': 0.063, 'co...   \n",
       "1          other  {'neg': 0.0, 'neu': 0.83, 'pos': 0.17, 'compou...   \n",
       "2             CD  {'neg': 0.0, 'neu': 0.807, 'pos': 0.193, 'comp...   \n",
       "3              I  {'neg': 0.0, 'neu': 1.0, 'pos': 0.0, 'compound...   \n",
       "4              M  {'neg': 0.0, 'neu': 1.0, 'pos': 0.0, 'compound...   \n",
       "\n",
       "  Realtor remarks sentiment classified  \\\n",
       "0                             negative   \n",
       "1                             positive   \n",
       "2                             positive   \n",
       "3                             positive   \n",
       "4                             positive   \n",
       "\n",
       "                            Public remarks sentiment  \\\n",
       "0  {'neg': 0.0, 'neu': 0.812, 'pos': 0.188, 'comp...   \n",
       "1  {'neg': 0.035, 'neu': 0.828, 'pos': 0.138, 'co...   \n",
       "2  {'neg': 0.072, 'neu': 0.781, 'pos': 0.147, 'co...   \n",
       "3  {'neg': 0.0, 'neu': 0.923, 'pos': 0.077, 'comp...   \n",
       "4  {'neg': 0.0, 'neu': 0.911, 'pos': 0.089, 'comp...   \n",
       "\n",
       "   Public remarks sentiment classified  \n",
       "0                             positive  \n",
       "1                             positive  \n",
       "2                             positive  \n",
       "3                             positive  \n",
       "4                             positive  \n",
       "\n",
       "[5 rows x 34 columns]"
      ],
      "text/html": "<div>\n<style scoped>\n    .dataframe tbody tr th:only-of-type {\n        vertical-align: middle;\n    }\n\n    .dataframe tbody tr th {\n        vertical-align: top;\n    }\n\n    .dataframe thead th {\n        text-align: right;\n    }\n</style>\n<table border=\"1\" class=\"dataframe\">\n  <thead>\n    <tr style=\"text-align: right;\">\n      <th></th>\n      <th>Prop Type</th>\n      <th>S/A</th>\n      <th>Price</th>\n      <th>Yr Blt</th>\n      <th>TypeDwel</th>\n      <th># of Kitchens</th>\n      <th># Rms</th>\n      <th>Age</th>\n      <th>Floor Area -Grand Total</th>\n      <th>Area</th>\n      <th>...</th>\n      <th>Gross Taxes</th>\n      <th>Owner Name</th>\n      <th>No. Floor Levels</th>\n      <th>Dist to School/School Bus changed</th>\n      <th>Distance to Pub/Rapid Tr changed</th>\n      <th>Zoning changed</th>\n      <th>Realtor remarks sentiment</th>\n      <th>Realtor remarks sentiment classified</th>\n      <th>Public remarks sentiment</th>\n      <th>Public remarks sentiment classified</th>\n    </tr>\n  </thead>\n  <tbody>\n    <tr>\n      <th>0</th>\n      <td>Residential Attached</td>\n      <td>Brighouse</td>\n      <td>438000</td>\n      <td>2008.0</td>\n      <td>APTU</td>\n      <td>1.0</td>\n      <td>5.0</td>\n      <td>12.0</td>\n      <td>559.0</td>\n      <td>Richmond</td>\n      <td>...</td>\n      <td>1394.74</td>\n      <td>XIAO DAN WANG</td>\n      <td>1.0</td>\n      <td>Close</td>\n      <td>Close</td>\n      <td>CD</td>\n      <td>{'neg': 0.114, 'neu': 0.823, 'pos': 0.063, 'co...</td>\n      <td>negative</td>\n      <td>{'neg': 0.0, 'neu': 0.812, 'pos': 0.188, 'comp...</td>\n      <td>positive</td>\n    </tr>\n    <tr>\n      <th>1</th>\n      <td>Residential Attached</td>\n      <td>West Central</td>\n      <td>438000</td>\n      <td>1999.0</td>\n      <td>APTU</td>\n      <td>1.0</td>\n      <td>7.0</td>\n      <td>21.0</td>\n      <td>1248.0</td>\n      <td>Maple Ridge</td>\n      <td>...</td>\n      <td>2542.73</td>\n      <td>Michael Zamprogno &amp; Jade Werger</td>\n      <td>1.0</td>\n      <td>Not Close</td>\n      <td>Close</td>\n      <td>other</td>\n      <td>{'neg': 0.0, 'neu': 0.83, 'pos': 0.17, 'compou...</td>\n      <td>positive</td>\n      <td>{'neg': 0.035, 'neu': 0.828, 'pos': 0.138, 'co...</td>\n      <td>positive</td>\n    </tr>\n    <tr>\n      <th>2</th>\n      <td>Residential Attached</td>\n      <td>Collingwood VE</td>\n      <td>438000</td>\n      <td>1992.0</td>\n      <td>APTU</td>\n      <td>1.0</td>\n      <td>5.0</td>\n      <td>29.0</td>\n      <td>672.0</td>\n      <td>Vancouver East</td>\n      <td>...</td>\n      <td>1001.26</td>\n      <td>**Privacy Protected**</td>\n      <td>1.0</td>\n      <td>Not Close</td>\n      <td>Not Close</td>\n      <td>CD</td>\n      <td>{'neg': 0.0, 'neu': 0.807, 'pos': 0.193, 'comp...</td>\n      <td>positive</td>\n      <td>{'neg': 0.072, 'neu': 0.781, 'pos': 0.147, 'co...</td>\n      <td>positive</td>\n    </tr>\n    <tr>\n      <th>3</th>\n      <td>Residential Attached</td>\n      <td>Brighouse</td>\n      <td>438000</td>\n      <td>1971.0</td>\n      <td>APTU</td>\n      <td>1.0</td>\n      <td>5.0</td>\n      <td>50.0</td>\n      <td>804.0</td>\n      <td>Richmond</td>\n      <td>...</td>\n      <td>1080.07</td>\n      <td>Paul Wing Ming Pi, Glara Ming Pi</td>\n      <td>1.0</td>\n      <td>Close</td>\n      <td>Close</td>\n      <td>I</td>\n      <td>{'neg': 0.0, 'neu': 1.0, 'pos': 0.0, 'compound...</td>\n      <td>positive</td>\n      <td>{'neg': 0.0, 'neu': 0.923, 'pos': 0.077, 'comp...</td>\n      <td>positive</td>\n    </tr>\n    <tr>\n      <th>4</th>\n      <td>Residential Attached</td>\n      <td>West End VW</td>\n      <td>438000</td>\n      <td>1984.0</td>\n      <td>APTU</td>\n      <td>1.0</td>\n      <td>5.0</td>\n      <td>36.0</td>\n      <td>552.0</td>\n      <td>Vancouver West</td>\n      <td>...</td>\n      <td>1399.54</td>\n      <td>**Privacy Protected**</td>\n      <td>1.0</td>\n      <td>Not Close</td>\n      <td>Not Close</td>\n      <td>M</td>\n      <td>{'neg': 0.0, 'neu': 1.0, 'pos': 0.0, 'compound...</td>\n      <td>positive</td>\n      <td>{'neg': 0.0, 'neu': 0.911, 'pos': 0.089, 'comp...</td>\n      <td>positive</td>\n    </tr>\n  </tbody>\n</table>\n<p>5 rows × 34 columns</p>\n</div>"
     },
     "metadata": {},
     "execution_count": 212
    }
   ],
   "source": [
    "df.head()"
   ]
  },
  {
   "cell_type": "code",
   "execution_count": 213,
   "metadata": {},
   "outputs": [
    {
     "output_type": "execute_result",
     "data": {
      "text/plain": [
       "Index(['Prop Type', 'S/A', 'Price', 'Yr Blt', 'TypeDwel', '# of Kitchens',\n",
       "       '# Rms', 'Age', 'Floor Area -Grand Total', 'Area', 'Zoning', 'Type',\n",
       "       'Total Bedrooms', 'Total Baths', 'Days On Market', 'List Date',\n",
       "       'Lot Sz (Sq.Ft.)', 'View', 'Fireplaces', 'List Price', 'Public Remarks',\n",
       "       'Realtor Remarks', 'Sold Price per SqFt', 'Parking Places - Total',\n",
       "       'Gross Taxes', 'Owner Name', 'No. Floor Levels',\n",
       "       'Dist to School/School Bus changed', 'Distance to Pub/Rapid Tr changed',\n",
       "       'Zoning changed', 'Realtor remarks sentiment',\n",
       "       'Realtor remarks sentiment classified', 'Public remarks sentiment',\n",
       "       'Public remarks sentiment classified'],\n",
       "      dtype='object')"
      ]
     },
     "metadata": {},
     "execution_count": 213
    }
   ],
   "source": [
    "df.columns"
   ]
  },
  {
   "cell_type": "code",
   "execution_count": 214,
   "metadata": {},
   "outputs": [],
   "source": [
    "# this dataset perserves the original words in the realtor and public remarks\n",
    "df.to_csv('df.csv')"
   ]
  },
  {
   "cell_type": "code",
   "execution_count": 215,
   "metadata": {},
   "outputs": [],
   "source": [
    "df_short = df.copy()"
   ]
  },
  {
   "cell_type": "code",
   "execution_count": 217,
   "metadata": {},
   "outputs": [
    {
     "output_type": "execute_result",
     "data": {
      "text/plain": [
       "Prop Type                                       object\n",
       "S/A                                             object\n",
       "Price                                            int32\n",
       "Yr Blt                                         float64\n",
       "TypeDwel                                        object\n",
       "# of Kitchens                                  float64\n",
       "# Rms                                          float64\n",
       "Age                                            float64\n",
       "Floor Area -Grand Total                        float64\n",
       "Area                                            object\n",
       "Zoning                                          object\n",
       "Type                                            object\n",
       "Total Bedrooms                                 float64\n",
       "Total Baths                                    float64\n",
       "Days On Market                                   int64\n",
       "List Date                               datetime64[ns]\n",
       "Lot Sz (Sq.Ft.)                                float64\n",
       "View                                            object\n",
       "Fireplaces                                     float64\n",
       "List Price                                       int32\n",
       "Public Remarks                                  object\n",
       "Realtor Remarks                                 object\n",
       "Sold Price per SqFt                             object\n",
       "Parking Places - Total                         float64\n",
       "Gross Taxes                                    float64\n",
       "Owner Name                                      object\n",
       "No. Floor Levels                               float64\n",
       "Dist to School/School Bus changed               object\n",
       "Distance to Pub/Rapid Tr changed                object\n",
       "Zoning changed                                  object\n",
       "Realtor remarks sentiment                       object\n",
       "Realtor remarks sentiment classified            object\n",
       "Public remarks sentiment                        object\n",
       "Public remarks sentiment classified             object\n",
       "dtype: object"
      ]
     },
     "metadata": {},
     "execution_count": 217
    }
   ],
   "source": [
    "df_short.dtypes"
   ]
  },
  {
   "cell_type": "code",
   "execution_count": 218,
   "metadata": {},
   "outputs": [],
   "source": [
    "df_short = df_short.drop(['Realtor remarks sentiment','Public remarks sentiment','Public Remarks', 'Realtor Remarks'], axis=1)"
   ]
  },
  {
   "cell_type": "code",
   "execution_count": 220,
   "metadata": {},
   "outputs": [],
   "source": [
    "# this dataset is intended for trainning and validating on models\n",
    "df_short.to_csv('df_short.csv')"
   ]
  },
  {
   "cell_type": "code",
   "execution_count": null,
   "metadata": {},
   "outputs": [],
   "source": []
  }
 ]
}