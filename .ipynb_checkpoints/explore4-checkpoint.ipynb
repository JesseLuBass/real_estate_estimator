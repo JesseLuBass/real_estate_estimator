{
 "cells": [
  {
   "cell_type": "code",
   "execution_count": 1,
   "metadata": {},
   "outputs": [],
   "source": [
    "import pandas as pd \n"
   ]
  },
  {
   "cell_type": "code",
   "execution_count": 2,
   "metadata": {},
   "outputs": [],
   "source": [
    "df = pd.read_csv('df_transformed.csv')"
   ]
  },
  {
   "cell_type": "code",
   "execution_count": 3,
   "metadata": {},
   "outputs": [],
   "source": [
    "time = pd.read_csv('frame.csv')"
   ]
  },
  {
   "cell_type": "code",
   "execution_count": 4,
   "metadata": {},
   "outputs": [],
   "source": [
    "time = time['List Date']"
   ]
  },
  {
   "cell_type": "code",
   "execution_count": 5,
   "metadata": {},
   "outputs": [
    {
     "data": {
      "text/plain": [
       "0        5/24/2021\n",
       "1         1/2/2021\n",
       "2        5/17/2021\n",
       "3        2/10/2021\n",
       "4        2/16/2021\n",
       "           ...    \n",
       "35579    1/24/2021\n",
       "35580     2/3/2021\n",
       "35581    3/15/2021\n",
       "35582    4/20/2021\n",
       "35583     4/1/2021\n",
       "Name: List Date, Length: 35584, dtype: object"
      ]
     },
     "execution_count": 5,
     "metadata": {},
     "output_type": "execute_result"
    }
   ],
   "source": [
    "time"
   ]
  },
  {
   "cell_type": "code",
   "execution_count": 6,
   "metadata": {},
   "outputs": [],
   "source": [
    "df = df.join(time)"
   ]
  },
  {
   "cell_type": "code",
   "execution_count": 7,
   "metadata": {},
   "outputs": [],
   "source": [
    "df = df.drop('Unnamed: 0', axis = 1 )"
   ]
  },
  {
   "cell_type": "code",
   "execution_count": 8,
   "metadata": {},
   "outputs": [
    {
     "data": {
      "text/html": [
       "<div>\n",
       "<style scoped>\n",
       "    .dataframe tbody tr th:only-of-type {\n",
       "        vertical-align: middle;\n",
       "    }\n",
       "\n",
       "    .dataframe tbody tr th {\n",
       "        vertical-align: top;\n",
       "    }\n",
       "\n",
       "    .dataframe thead th {\n",
       "        text-align: right;\n",
       "    }\n",
       "</style>\n",
       "<table border=\"1\" class=\"dataframe\">\n",
       "  <thead>\n",
       "    <tr style=\"text-align: right;\">\n",
       "      <th></th>\n",
       "      <th>Price</th>\n",
       "      <th>Yr Blt</th>\n",
       "      <th># of Kitchens</th>\n",
       "      <th># Rms</th>\n",
       "      <th>Age</th>\n",
       "      <th>Floor Area -Grand Total</th>\n",
       "      <th>Type</th>\n",
       "      <th>Total Bedrooms</th>\n",
       "      <th>Total Baths</th>\n",
       "      <th>Class</th>\n",
       "      <th>Days On Market</th>\n",
       "      <th>Lot Sz (Sq.Ft.)</th>\n",
       "      <th>View</th>\n",
       "      <th>prop_transformed</th>\n",
       "      <th>type_transformed</th>\n",
       "      <th>transformed_area</th>\n",
       "      <th>List Date</th>\n",
       "    </tr>\n",
       "  </thead>\n",
       "  <tbody>\n",
       "    <tr>\n",
       "      <th>0</th>\n",
       "      <td>415000</td>\n",
       "      <td>2005.0</td>\n",
       "      <td>1.0</td>\n",
       "      <td>6.0</td>\n",
       "      <td>16.0</td>\n",
       "      <td>766.0</td>\n",
       "      <td>Apartment/Condo</td>\n",
       "      <td>2.0</td>\n",
       "      <td>1.0</td>\n",
       "      <td>Residential Attached</td>\n",
       "      <td>13</td>\n",
       "      <td>0.0</td>\n",
       "      <td>No</td>\n",
       "      <td>Residential Attached</td>\n",
       "      <td>APTU</td>\n",
       "      <td>Cloverdale</td>\n",
       "      <td>5/24/2021</td>\n",
       "    </tr>\n",
       "    <tr>\n",
       "      <th>1</th>\n",
       "      <td>423000</td>\n",
       "      <td>1997.0</td>\n",
       "      <td>1.0</td>\n",
       "      <td>4.0</td>\n",
       "      <td>24.0</td>\n",
       "      <td>322.0</td>\n",
       "      <td>Apartment/Condo</td>\n",
       "      <td>0.0</td>\n",
       "      <td>1.0</td>\n",
       "      <td>Residential Attached</td>\n",
       "      <td>9</td>\n",
       "      <td>0.0</td>\n",
       "      <td>Yes</td>\n",
       "      <td>Residential Attached</td>\n",
       "      <td>APTU</td>\n",
       "      <td>Other</td>\n",
       "      <td>1/2/2021</td>\n",
       "    </tr>\n",
       "    <tr>\n",
       "      <th>2</th>\n",
       "      <td>423000</td>\n",
       "      <td>1996.0</td>\n",
       "      <td>1.0</td>\n",
       "      <td>4.0</td>\n",
       "      <td>25.0</td>\n",
       "      <td>396.0</td>\n",
       "      <td>Apartment/Condo</td>\n",
       "      <td>0.0</td>\n",
       "      <td>1.0</td>\n",
       "      <td>Residential Attached</td>\n",
       "      <td>18</td>\n",
       "      <td>0.0</td>\n",
       "      <td>Yes</td>\n",
       "      <td>Residential Attached</td>\n",
       "      <td>APTU</td>\n",
       "      <td>Vancouver West</td>\n",
       "      <td>5/17/2021</td>\n",
       "    </tr>\n",
       "    <tr>\n",
       "      <th>3</th>\n",
       "      <td>430000</td>\n",
       "      <td>2021.0</td>\n",
       "      <td>1.0</td>\n",
       "      <td>5.0</td>\n",
       "      <td>0.0</td>\n",
       "      <td>853.0</td>\n",
       "      <td>Apartment/Condo</td>\n",
       "      <td>2.0</td>\n",
       "      <td>2.0</td>\n",
       "      <td>Residential Attached</td>\n",
       "      <td>7</td>\n",
       "      <td>0.0</td>\n",
       "      <td>NaN</td>\n",
       "      <td>Residential Attached</td>\n",
       "      <td>APTU</td>\n",
       "      <td>Chilliwack</td>\n",
       "      <td>2/10/2021</td>\n",
       "    </tr>\n",
       "    <tr>\n",
       "      <th>4</th>\n",
       "      <td>430000</td>\n",
       "      <td>2014.0</td>\n",
       "      <td>1.0</td>\n",
       "      <td>7.0</td>\n",
       "      <td>7.0</td>\n",
       "      <td>1224.0</td>\n",
       "      <td>Apartment/Condo</td>\n",
       "      <td>2.0</td>\n",
       "      <td>1.0</td>\n",
       "      <td>Residential Attached</td>\n",
       "      <td>15</td>\n",
       "      <td>0.0</td>\n",
       "      <td>Yes</td>\n",
       "      <td>Residential Attached</td>\n",
       "      <td>APTU</td>\n",
       "      <td>Sardis</td>\n",
       "      <td>2/16/2021</td>\n",
       "    </tr>\n",
       "  </tbody>\n",
       "</table>\n",
       "</div>"
      ],
      "text/plain": [
       "    Price  Yr Blt  # of Kitchens  # Rms   Age  Floor Area -Grand Total  \\\n",
       "0  415000  2005.0            1.0    6.0  16.0                    766.0   \n",
       "1  423000  1997.0            1.0    4.0  24.0                    322.0   \n",
       "2  423000  1996.0            1.0    4.0  25.0                    396.0   \n",
       "3  430000  2021.0            1.0    5.0   0.0                    853.0   \n",
       "4  430000  2014.0            1.0    7.0   7.0                   1224.0   \n",
       "\n",
       "              Type  Total Bedrooms  Total Baths                 Class  \\\n",
       "0  Apartment/Condo             2.0          1.0  Residential Attached   \n",
       "1  Apartment/Condo             0.0          1.0  Residential Attached   \n",
       "2  Apartment/Condo             0.0          1.0  Residential Attached   \n",
       "3  Apartment/Condo             2.0          2.0  Residential Attached   \n",
       "4  Apartment/Condo             2.0          1.0  Residential Attached   \n",
       "\n",
       "   Days On Market  Lot Sz (Sq.Ft.) View      prop_transformed  \\\n",
       "0              13              0.0   No  Residential Attached   \n",
       "1               9              0.0  Yes  Residential Attached   \n",
       "2              18              0.0  Yes  Residential Attached   \n",
       "3               7              0.0  NaN  Residential Attached   \n",
       "4              15              0.0  Yes  Residential Attached   \n",
       "\n",
       "  type_transformed transformed_area  List Date  \n",
       "0             APTU       Cloverdale  5/24/2021  \n",
       "1             APTU            Other   1/2/2021  \n",
       "2             APTU   Vancouver West  5/17/2021  \n",
       "3             APTU       Chilliwack  2/10/2021  \n",
       "4             APTU           Sardis  2/16/2021  "
      ]
     },
     "execution_count": 8,
     "metadata": {},
     "output_type": "execute_result"
    }
   ],
   "source": [
    "df.head()"
   ]
  },
  {
   "cell_type": "code",
   "execution_count": 9,
   "metadata": {},
   "outputs": [],
   "source": [
    "df['List Date'] = pd.to_datetime(df['List Date'])"
   ]
  },
  {
   "cell_type": "code",
   "execution_count": 10,
   "metadata": {},
   "outputs": [
    {
     "data": {
      "text/plain": [
       "Price                               int64\n",
       "Yr Blt                            float64\n",
       "# of Kitchens                     float64\n",
       "# Rms                             float64\n",
       "Age                               float64\n",
       "Floor Area -Grand Total           float64\n",
       "Type                               object\n",
       "Total Bedrooms                    float64\n",
       "Total Baths                       float64\n",
       "Class                              object\n",
       "Days On Market                      int64\n",
       "Lot Sz (Sq.Ft.)                   float64\n",
       "View                               object\n",
       "prop_transformed                   object\n",
       "type_transformed                   object\n",
       "transformed_area                   object\n",
       "List Date                  datetime64[ns]\n",
       "dtype: object"
      ]
     },
     "execution_count": 10,
     "metadata": {},
     "output_type": "execute_result"
    }
   ],
   "source": [
    "df.dtypes"
   ]
  },
  {
   "cell_type": "code",
   "execution_count": 11,
   "metadata": {},
   "outputs": [],
   "source": [
    "df['List Date'] =  df['List Date'].apply(lambda x: x.toordinal())"
   ]
  },
  {
   "cell_type": "code",
   "execution_count": 12,
   "metadata": {},
   "outputs": [
    {
     "data": {
      "text/html": [
       "<div>\n",
       "<style scoped>\n",
       "    .dataframe tbody tr th:only-of-type {\n",
       "        vertical-align: middle;\n",
       "    }\n",
       "\n",
       "    .dataframe tbody tr th {\n",
       "        vertical-align: top;\n",
       "    }\n",
       "\n",
       "    .dataframe thead th {\n",
       "        text-align: right;\n",
       "    }\n",
       "</style>\n",
       "<table border=\"1\" class=\"dataframe\">\n",
       "  <thead>\n",
       "    <tr style=\"text-align: right;\">\n",
       "      <th></th>\n",
       "      <th>Price</th>\n",
       "      <th>Yr Blt</th>\n",
       "      <th># of Kitchens</th>\n",
       "      <th># Rms</th>\n",
       "      <th>Age</th>\n",
       "      <th>Floor Area -Grand Total</th>\n",
       "      <th>Type</th>\n",
       "      <th>Total Bedrooms</th>\n",
       "      <th>Total Baths</th>\n",
       "      <th>Class</th>\n",
       "      <th>Days On Market</th>\n",
       "      <th>Lot Sz (Sq.Ft.)</th>\n",
       "      <th>View</th>\n",
       "      <th>prop_transformed</th>\n",
       "      <th>type_transformed</th>\n",
       "      <th>transformed_area</th>\n",
       "      <th>List Date</th>\n",
       "    </tr>\n",
       "  </thead>\n",
       "  <tbody>\n",
       "    <tr>\n",
       "      <th>0</th>\n",
       "      <td>415000</td>\n",
       "      <td>2005.0</td>\n",
       "      <td>1.0</td>\n",
       "      <td>6.0</td>\n",
       "      <td>16.0</td>\n",
       "      <td>766.0</td>\n",
       "      <td>Apartment/Condo</td>\n",
       "      <td>2.0</td>\n",
       "      <td>1.0</td>\n",
       "      <td>Residential Attached</td>\n",
       "      <td>13</td>\n",
       "      <td>0.0</td>\n",
       "      <td>No</td>\n",
       "      <td>Residential Attached</td>\n",
       "      <td>APTU</td>\n",
       "      <td>Cloverdale</td>\n",
       "      <td>737934</td>\n",
       "    </tr>\n",
       "    <tr>\n",
       "      <th>1</th>\n",
       "      <td>423000</td>\n",
       "      <td>1997.0</td>\n",
       "      <td>1.0</td>\n",
       "      <td>4.0</td>\n",
       "      <td>24.0</td>\n",
       "      <td>322.0</td>\n",
       "      <td>Apartment/Condo</td>\n",
       "      <td>0.0</td>\n",
       "      <td>1.0</td>\n",
       "      <td>Residential Attached</td>\n",
       "      <td>9</td>\n",
       "      <td>0.0</td>\n",
       "      <td>Yes</td>\n",
       "      <td>Residential Attached</td>\n",
       "      <td>APTU</td>\n",
       "      <td>Other</td>\n",
       "      <td>737792</td>\n",
       "    </tr>\n",
       "    <tr>\n",
       "      <th>2</th>\n",
       "      <td>423000</td>\n",
       "      <td>1996.0</td>\n",
       "      <td>1.0</td>\n",
       "      <td>4.0</td>\n",
       "      <td>25.0</td>\n",
       "      <td>396.0</td>\n",
       "      <td>Apartment/Condo</td>\n",
       "      <td>0.0</td>\n",
       "      <td>1.0</td>\n",
       "      <td>Residential Attached</td>\n",
       "      <td>18</td>\n",
       "      <td>0.0</td>\n",
       "      <td>Yes</td>\n",
       "      <td>Residential Attached</td>\n",
       "      <td>APTU</td>\n",
       "      <td>Vancouver West</td>\n",
       "      <td>737927</td>\n",
       "    </tr>\n",
       "    <tr>\n",
       "      <th>3</th>\n",
       "      <td>430000</td>\n",
       "      <td>2021.0</td>\n",
       "      <td>1.0</td>\n",
       "      <td>5.0</td>\n",
       "      <td>0.0</td>\n",
       "      <td>853.0</td>\n",
       "      <td>Apartment/Condo</td>\n",
       "      <td>2.0</td>\n",
       "      <td>2.0</td>\n",
       "      <td>Residential Attached</td>\n",
       "      <td>7</td>\n",
       "      <td>0.0</td>\n",
       "      <td>NaN</td>\n",
       "      <td>Residential Attached</td>\n",
       "      <td>APTU</td>\n",
       "      <td>Chilliwack</td>\n",
       "      <td>737831</td>\n",
       "    </tr>\n",
       "    <tr>\n",
       "      <th>4</th>\n",
       "      <td>430000</td>\n",
       "      <td>2014.0</td>\n",
       "      <td>1.0</td>\n",
       "      <td>7.0</td>\n",
       "      <td>7.0</td>\n",
       "      <td>1224.0</td>\n",
       "      <td>Apartment/Condo</td>\n",
       "      <td>2.0</td>\n",
       "      <td>1.0</td>\n",
       "      <td>Residential Attached</td>\n",
       "      <td>15</td>\n",
       "      <td>0.0</td>\n",
       "      <td>Yes</td>\n",
       "      <td>Residential Attached</td>\n",
       "      <td>APTU</td>\n",
       "      <td>Sardis</td>\n",
       "      <td>737837</td>\n",
       "    </tr>\n",
       "  </tbody>\n",
       "</table>\n",
       "</div>"
      ],
      "text/plain": [
       "    Price  Yr Blt  # of Kitchens  # Rms   Age  Floor Area -Grand Total  \\\n",
       "0  415000  2005.0            1.0    6.0  16.0                    766.0   \n",
       "1  423000  1997.0            1.0    4.0  24.0                    322.0   \n",
       "2  423000  1996.0            1.0    4.0  25.0                    396.0   \n",
       "3  430000  2021.0            1.0    5.0   0.0                    853.0   \n",
       "4  430000  2014.0            1.0    7.0   7.0                   1224.0   \n",
       "\n",
       "              Type  Total Bedrooms  Total Baths                 Class  \\\n",
       "0  Apartment/Condo             2.0          1.0  Residential Attached   \n",
       "1  Apartment/Condo             0.0          1.0  Residential Attached   \n",
       "2  Apartment/Condo             0.0          1.0  Residential Attached   \n",
       "3  Apartment/Condo             2.0          2.0  Residential Attached   \n",
       "4  Apartment/Condo             2.0          1.0  Residential Attached   \n",
       "\n",
       "   Days On Market  Lot Sz (Sq.Ft.) View      prop_transformed  \\\n",
       "0              13              0.0   No  Residential Attached   \n",
       "1               9              0.0  Yes  Residential Attached   \n",
       "2              18              0.0  Yes  Residential Attached   \n",
       "3               7              0.0  NaN  Residential Attached   \n",
       "4              15              0.0  Yes  Residential Attached   \n",
       "\n",
       "  type_transformed transformed_area  List Date  \n",
       "0             APTU       Cloverdale     737934  \n",
       "1             APTU            Other     737792  \n",
       "2             APTU   Vancouver West     737927  \n",
       "3             APTU       Chilliwack     737831  \n",
       "4             APTU           Sardis     737837  "
      ]
     },
     "execution_count": 12,
     "metadata": {},
     "output_type": "execute_result"
    }
   ],
   "source": [
    "df.head()"
   ]
  },
  {
   "cell_type": "code",
   "execution_count": 15,
   "metadata": {},
   "outputs": [
    {
     "data": {
      "text/plain": [
       "[PhysicalDevice(name='/physical_device:GPU:0', device_type='GPU')]"
      ]
     },
     "execution_count": 15,
     "metadata": {},
     "output_type": "execute_result"
    }
   ],
   "source": [
    "import tensorflow as tf \n",
    "tf.__version__\n",
    "tf.config.list_physical_devices('GPU')"
   ]
  },
  {
   "cell_type": "code",
   "execution_count": 16,
   "metadata": {},
   "outputs": [
    {
     "ename": "NameError",
     "evalue": "name 'n_features' is not defined",
     "output_type": "error",
     "traceback": [
      "\u001b[1;31m---------------------------------------------------------------------------\u001b[0m",
      "\u001b[1;31mNameError\u001b[0m                                 Traceback (most recent call last)",
      "\u001b[1;32m<ipython-input-16-65507426f0eb>\u001b[0m in \u001b[0;36m<module>\u001b[1;34m\u001b[0m\n\u001b[0;32m      4\u001b[0m \u001b[1;32mimport\u001b[0m \u001b[0mtensorflow\u001b[0m\u001b[1;33m\u001b[0m\u001b[1;33m\u001b[0m\u001b[0m\n\u001b[0;32m      5\u001b[0m \u001b[0mmodel\u001b[0m \u001b[1;33m=\u001b[0m \u001b[0mSequential\u001b[0m\u001b[1;33m(\u001b[0m\u001b[1;33m)\u001b[0m\u001b[1;33m\u001b[0m\u001b[1;33m\u001b[0m\u001b[0m\n\u001b[1;32m----> 6\u001b[1;33m \u001b[0mmodel\u001b[0m\u001b[1;33m.\u001b[0m\u001b[0madd\u001b[0m\u001b[1;33m(\u001b[0m\u001b[0mDense\u001b[0m\u001b[1;33m(\u001b[0m\u001b[1;36m10\u001b[0m\u001b[1;33m,\u001b[0m \u001b[0mactivation\u001b[0m\u001b[1;33m=\u001b[0m\u001b[1;34m'relu'\u001b[0m\u001b[1;33m,\u001b[0m \u001b[0minput_shape\u001b[0m\u001b[1;33m=\u001b[0m\u001b[1;33m(\u001b[0m\u001b[0mn_features\u001b[0m\u001b[1;33m,\u001b[0m\u001b[1;33m)\u001b[0m\u001b[1;33m)\u001b[0m\u001b[1;33m)\u001b[0m\u001b[1;33m\u001b[0m\u001b[1;33m\u001b[0m\u001b[0m\n\u001b[0m\u001b[0;32m      7\u001b[0m \u001b[0mmodel\u001b[0m\u001b[1;33m.\u001b[0m\u001b[0madd\u001b[0m\u001b[1;33m(\u001b[0m\u001b[0mDense\u001b[0m\u001b[1;33m(\u001b[0m\u001b[1;36m8\u001b[0m\u001b[1;33m,\u001b[0m \u001b[0mactivation\u001b[0m\u001b[1;33m=\u001b[0m\u001b[1;34m'relu'\u001b[0m\u001b[1;33m)\u001b[0m\u001b[1;33m)\u001b[0m\u001b[1;33m\u001b[0m\u001b[1;33m\u001b[0m\u001b[0m\n\u001b[0;32m      8\u001b[0m \u001b[0mmodel\u001b[0m\u001b[1;33m.\u001b[0m\u001b[0madd\u001b[0m\u001b[1;33m(\u001b[0m\u001b[0mDense\u001b[0m\u001b[1;33m(\u001b[0m\u001b[1;36m1\u001b[0m\u001b[1;33m)\u001b[0m\u001b[1;33m)\u001b[0m\u001b[1;33m\u001b[0m\u001b[1;33m\u001b[0m\u001b[0m\n",
      "\u001b[1;31mNameError\u001b[0m: name 'n_features' is not defined"
     ]
    }
   ],
   "source": [
    "from tensorflow.keras import Sequential    # import Sequential from tensorflow.keras\n",
    "from tensorflow.keras.layers import Dense  # import Dense from tensorflow.keras.layers\n",
    "from numpy.random import seed     # seed helps you to fix the randomness in the neural network.  \n",
    "import tensorflow\n",
    "model = Sequential()\n",
    "model.add(Dense(10, activation='relu', input_shape=(n_features,)))\n",
    "model.add(Dense(8, activation='relu'))\n",
    "model.add(Dense(1))"
   ]
  },
  {
   "cell_type": "code",
   "execution_count": null,
   "metadata": {},
   "outputs": [],
   "source": []
  }
 ],
 "metadata": {
  "interpreter": {
   "hash": "b3ba2566441a7c06988d0923437866b63cedc61552a5af99d1f4fb67d367b25f"
  },
  "kernelspec": {
   "display_name": "Python 3",
   "language": "python",
   "name": "python3"
  },
  "language_info": {
   "codemirror_mode": {
    "name": "ipython",
    "version": 3
   },
   "file_extension": ".py",
   "mimetype": "text/x-python",
   "name": "python",
   "nbconvert_exporter": "python",
   "pygments_lexer": "ipython3",
   "version": "3.8.8"
  }
 },
 "nbformat": 4,
 "nbformat_minor": 2
}
